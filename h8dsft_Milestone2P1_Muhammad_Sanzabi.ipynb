{
 "cells": [
  {
   "cell_type": "markdown",
   "metadata": {},
   "source": [
    "# Perkenalan\n",
    "- Nama : Muhammad Sanzabi Libianto\n",
    "- Batch : 11\n",
    "- Milestone 2 - Phase 1\n",
    "- Objective : Membuat beberapa model Classification terhadap data CS:GO Round Winner Classification dengan data target berupa `round_winner`."
   ]
  },
  {
   "cell_type": "markdown",
   "metadata": {},
   "source": [
    "---\n",
    "# Import Libraries\n"
   ]
  },
  {
   "cell_type": "code",
   "execution_count": 1,
   "metadata": {},
   "outputs": [],
   "source": [
    "import pandas as pd\n",
    "import numpy as np\n",
    "import seaborn as sns\n",
    "import matplotlib.pyplot as plt\n",
    "from feature_engine.outliers import Winsorizer\n",
    "from sklearn.model_selection import train_test_split\n",
    "from sklearn.preprocessing import MinMaxScaler\n",
    "from sklearn.preprocessing import OneHotEncoder\n",
    "from sklearn.compose import ColumnTransformer\n",
    "from sklearn.linear_model import LogisticRegression\n",
    "from sklearn.svm import SVC\n",
    "from sklearn.ensemble import RandomForestClassifier\n",
    "from sklearn.neighbors import KNeighborsClassifier\n",
    "from sklearn.pipeline import Pipeline\n",
    "from sklearn.model_selection import cross_val_score, RandomizedSearchCV\n",
    "from sklearn.metrics import classification_report, roc_auc_score\n",
    "import warnings\n",
    "warnings.filterwarnings(\"ignore\")"
   ]
  },
  {
   "cell_type": "markdown",
   "metadata": {},
   "source": [
    "Statment:\n",
    "\n",
    "Kumpulan Library yang digunakan dalam project kali ini."
   ]
  },
  {
   "cell_type": "markdown",
   "metadata": {},
   "source": [
    "---\n",
    "# Data Loading\n"
   ]
  },
  {
   "cell_type": "code",
   "execution_count": 2,
   "metadata": {},
   "outputs": [
    {
     "name": "stdout",
     "output_type": "stream",
     "text": [
      "<class 'pandas.core.frame.DataFrame'>\n",
      "RangeIndex: 122410 entries, 0 to 122409\n",
      "Data columns (total 97 columns):\n",
      " #   Column                        Non-Null Count   Dtype  \n",
      "---  ------                        --------------   -----  \n",
      " 0   time_left                     122410 non-null  float64\n",
      " 1   ct_score                      122410 non-null  int64  \n",
      " 2   t_score                       122410 non-null  int64  \n",
      " 3   map                           122410 non-null  object \n",
      " 4   bomb_planted                  122410 non-null  float64\n",
      " 5   ct_health                     122410 non-null  int64  \n",
      " 6   t_health                      122410 non-null  int64  \n",
      " 7   ct_armor                      122410 non-null  int64  \n",
      " 8   t_armor                       122410 non-null  int64  \n",
      " 9   ct_money                      122410 non-null  int64  \n",
      " 10  t_money                       122410 non-null  int64  \n",
      " 11  ct_helmets                    122410 non-null  int64  \n",
      " 12  t_helmets                     122410 non-null  int64  \n",
      " 13  ct_defuse_kits                122410 non-null  int64  \n",
      " 14  ct_players_alive              122410 non-null  int64  \n",
      " 15  t_players_alive               122410 non-null  int64  \n",
      " 16  ct_weapon_ak47                122410 non-null  int64  \n",
      " 17  t_weapon_ak47                 122410 non-null  int64  \n",
      " 18  ct_weapon_aug                 122410 non-null  int64  \n",
      " 19  t_weapon_aug                  122410 non-null  int64  \n",
      " 20  ct_weapon_awp                 122410 non-null  int64  \n",
      " 21  t_weapon_awp                  122410 non-null  int64  \n",
      " 22  ct_weapon_bizon               122410 non-null  int64  \n",
      " 23  t_weapon_bizon                122410 non-null  int64  \n",
      " 24  ct_weapon_cz75auto            122410 non-null  int64  \n",
      " 25  t_weapon_cz75auto             122410 non-null  int64  \n",
      " 26  ct_weapon_elite               122410 non-null  int64  \n",
      " 27  t_weapon_elite                122410 non-null  int64  \n",
      " 28  ct_weapon_famas               122410 non-null  int64  \n",
      " 29  t_weapon_famas                122410 non-null  int64  \n",
      " 30  ct_weapon_g3sg1               122410 non-null  int64  \n",
      " 31  t_weapon_g3sg1                122410 non-null  int64  \n",
      " 32  ct_weapon_galilar             122410 non-null  int64  \n",
      " 33  t_weapon_galilar              122410 non-null  int64  \n",
      " 34  ct_weapon_glock               122410 non-null  int64  \n",
      " 35  t_weapon_glock                122410 non-null  int64  \n",
      " 36  ct_weapon_m249                122410 non-null  int64  \n",
      " 37  t_weapon_m249                 122410 non-null  int64  \n",
      " 38  ct_weapon_m4a1s               122410 non-null  int64  \n",
      " 39  t_weapon_m4a1s                122410 non-null  int64  \n",
      " 40  ct_weapon_m4a4                122410 non-null  int64  \n",
      " 41  t_weapon_m4a4                 122410 non-null  int64  \n",
      " 42  ct_weapon_mac10               122410 non-null  int64  \n",
      " 43  t_weapon_mac10                122410 non-null  int64  \n",
      " 44  ct_weapon_mag7                122410 non-null  int64  \n",
      " 45  t_weapon_mag7                 122410 non-null  int64  \n",
      " 46  ct_weapon_mp5sd               122410 non-null  int64  \n",
      " 47  t_weapon_mp5sd                122410 non-null  int64  \n",
      " 48  ct_weapon_mp7                 122410 non-null  int64  \n",
      " 49  t_weapon_mp7                  122410 non-null  int64  \n",
      " 50  ct_weapon_mp9                 122410 non-null  int64  \n",
      " 51  t_weapon_mp9                  122410 non-null  int64  \n",
      " 52  ct_weapon_negev               122410 non-null  int64  \n",
      " 53  t_weapon_negev                122410 non-null  int64  \n",
      " 54  ct_weapon_nova                122410 non-null  int64  \n",
      " 55  t_weapon_nova                 122410 non-null  int64  \n",
      " 56  ct_weapon_p90                 122410 non-null  int64  \n",
      " 57  t_weapon_p90                  122410 non-null  int64  \n",
      " 58  ct_weapon_r8revolver          122410 non-null  int64  \n",
      " 59  t_weapon_r8revolver           122410 non-null  int64  \n",
      " 60  ct_weapon_sawedoff            122410 non-null  int64  \n",
      " 61  t_weapon_sawedoff             122410 non-null  int64  \n",
      " 62  ct_weapon_scar20              122410 non-null  int64  \n",
      " 63  t_weapon_scar20               122410 non-null  int64  \n",
      " 64  ct_weapon_sg553               122410 non-null  int64  \n",
      " 65  t_weapon_sg553                122410 non-null  int64  \n",
      " 66  ct_weapon_ssg08               122410 non-null  int64  \n",
      " 67  t_weapon_ssg08                122410 non-null  int64  \n",
      " 68  ct_weapon_ump45               122410 non-null  int64  \n",
      " 69  t_weapon_ump45                122410 non-null  int64  \n",
      " 70  ct_weapon_xm1014              122410 non-null  int64  \n",
      " 71  t_weapon_xm1014               122410 non-null  int64  \n",
      " 72  ct_weapon_deagle              122410 non-null  int64  \n",
      " 73  t_weapon_deagle               122410 non-null  int64  \n",
      " 74  ct_weapon_fiveseven           122410 non-null  int64  \n",
      " 75  t_weapon_fiveseven            122410 non-null  int64  \n",
      " 76  ct_weapon_usps                122410 non-null  int64  \n",
      " 77  t_weapon_usps                 122410 non-null  int64  \n",
      " 78  ct_weapon_p250                122410 non-null  int64  \n",
      " 79  t_weapon_p250                 122410 non-null  int64  \n",
      " 80  ct_weapon_p2000               122410 non-null  int64  \n",
      " 81  t_weapon_p2000                122410 non-null  int64  \n",
      " 82  ct_weapon_tec9                122410 non-null  int64  \n",
      " 83  t_weapon_tec9                 122410 non-null  int64  \n",
      " 84  ct_grenade_hegrenade          122410 non-null  int64  \n",
      " 85  t_grenade_hegrenade           122410 non-null  int64  \n",
      " 86  ct_grenade_flashbang          122410 non-null  int64  \n",
      " 87  t_grenade_flashbang           122410 non-null  int64  \n",
      " 88  ct_grenade_smokegrenade       122410 non-null  int64  \n",
      " 89  t_grenade_smokegrenade        122410 non-null  int64  \n",
      " 90  ct_grenade_incendiarygrenade  122410 non-null  int64  \n",
      " 91  t_grenade_incendiarygrenade   122410 non-null  int64  \n",
      " 92  ct_grenade_molotovgrenade     122410 non-null  int64  \n",
      " 93  t_grenade_molotovgrenade      122410 non-null  int64  \n",
      " 94  ct_grenade_decoygrenade       122410 non-null  int64  \n",
      " 95  t_grenade_decoygrenade        122410 non-null  int64  \n",
      " 96  round_winner                  122410 non-null  object \n",
      "dtypes: float64(2), int64(93), object(2)\n",
      "memory usage: 90.6+ MB\n"
     ]
    }
   ],
   "source": [
    "df = pd.read_csv(\"csgo_round_snapshots.csv\")\n",
    "df.info()"
   ]
  },
  {
   "cell_type": "markdown",
   "metadata": {},
   "source": [
    "Statment:\n",
    "\n",
    "Memperlihatkan info dari setiap kolom pada dataset."
   ]
  },
  {
   "cell_type": "code",
   "execution_count": 3,
   "metadata": {},
   "outputs": [],
   "source": [
    "#df = df.astype({\"bomb_planted\": object})"
   ]
  },
  {
   "cell_type": "markdown",
   "metadata": {},
   "source": [
    "Statment:\n",
    "\n",
    "Meruba type data dari kolom bomb_planted dari bertype bool menjadi object."
   ]
  },
  {
   "cell_type": "code",
   "execution_count": 4,
   "metadata": {},
   "outputs": [
    {
     "data": {
      "text/html": [
       "<div>\n",
       "<style scoped>\n",
       "    .dataframe tbody tr th:only-of-type {\n",
       "        vertical-align: middle;\n",
       "    }\n",
       "\n",
       "    .dataframe tbody tr th {\n",
       "        vertical-align: top;\n",
       "    }\n",
       "\n",
       "    .dataframe thead th {\n",
       "        text-align: right;\n",
       "    }\n",
       "</style>\n",
       "<table border=\"1\" class=\"dataframe\">\n",
       "  <thead>\n",
       "    <tr style=\"text-align: right;\">\n",
       "      <th></th>\n",
       "      <th>time_left</th>\n",
       "      <th>ct_score</th>\n",
       "      <th>t_score</th>\n",
       "      <th>map</th>\n",
       "      <th>bomb_planted</th>\n",
       "      <th>ct_health</th>\n",
       "      <th>t_health</th>\n",
       "      <th>ct_armor</th>\n",
       "      <th>t_armor</th>\n",
       "      <th>ct_money</th>\n",
       "      <th>...</th>\n",
       "      <th>t_grenade_flashbang</th>\n",
       "      <th>ct_grenade_smokegrenade</th>\n",
       "      <th>t_grenade_smokegrenade</th>\n",
       "      <th>ct_grenade_incendiarygrenade</th>\n",
       "      <th>t_grenade_incendiarygrenade</th>\n",
       "      <th>ct_grenade_molotovgrenade</th>\n",
       "      <th>t_grenade_molotovgrenade</th>\n",
       "      <th>ct_grenade_decoygrenade</th>\n",
       "      <th>t_grenade_decoygrenade</th>\n",
       "      <th>round_winner</th>\n",
       "    </tr>\n",
       "  </thead>\n",
       "  <tbody>\n",
       "    <tr>\n",
       "      <th>0</th>\n",
       "      <td>175.00</td>\n",
       "      <td>0</td>\n",
       "      <td>0</td>\n",
       "      <td>dust2</td>\n",
       "      <td>0.0</td>\n",
       "      <td>500</td>\n",
       "      <td>500</td>\n",
       "      <td>0</td>\n",
       "      <td>0</td>\n",
       "      <td>4000</td>\n",
       "      <td>...</td>\n",
       "      <td>0</td>\n",
       "      <td>0</td>\n",
       "      <td>0</td>\n",
       "      <td>0</td>\n",
       "      <td>0</td>\n",
       "      <td>0</td>\n",
       "      <td>0</td>\n",
       "      <td>0</td>\n",
       "      <td>0</td>\n",
       "      <td>CT</td>\n",
       "    </tr>\n",
       "    <tr>\n",
       "      <th>1</th>\n",
       "      <td>156.03</td>\n",
       "      <td>0</td>\n",
       "      <td>0</td>\n",
       "      <td>dust2</td>\n",
       "      <td>0.0</td>\n",
       "      <td>500</td>\n",
       "      <td>500</td>\n",
       "      <td>400</td>\n",
       "      <td>300</td>\n",
       "      <td>600</td>\n",
       "      <td>...</td>\n",
       "      <td>0</td>\n",
       "      <td>0</td>\n",
       "      <td>2</td>\n",
       "      <td>0</td>\n",
       "      <td>0</td>\n",
       "      <td>0</td>\n",
       "      <td>0</td>\n",
       "      <td>0</td>\n",
       "      <td>0</td>\n",
       "      <td>CT</td>\n",
       "    </tr>\n",
       "    <tr>\n",
       "      <th>2</th>\n",
       "      <td>96.03</td>\n",
       "      <td>0</td>\n",
       "      <td>0</td>\n",
       "      <td>dust2</td>\n",
       "      <td>0.0</td>\n",
       "      <td>391</td>\n",
       "      <td>400</td>\n",
       "      <td>294</td>\n",
       "      <td>200</td>\n",
       "      <td>750</td>\n",
       "      <td>...</td>\n",
       "      <td>0</td>\n",
       "      <td>0</td>\n",
       "      <td>2</td>\n",
       "      <td>0</td>\n",
       "      <td>0</td>\n",
       "      <td>0</td>\n",
       "      <td>0</td>\n",
       "      <td>0</td>\n",
       "      <td>0</td>\n",
       "      <td>CT</td>\n",
       "    </tr>\n",
       "  </tbody>\n",
       "</table>\n",
       "<p>3 rows × 97 columns</p>\n",
       "</div>"
      ],
      "text/plain": [
       "   time_left  ct_score  t_score    map  bomb_planted  ct_health  t_health  \\\n",
       "0     175.00         0        0  dust2           0.0        500       500   \n",
       "1     156.03         0        0  dust2           0.0        500       500   \n",
       "2      96.03         0        0  dust2           0.0        391       400   \n",
       "\n",
       "   ct_armor  t_armor  ct_money  ...  t_grenade_flashbang  \\\n",
       "0         0        0      4000  ...                    0   \n",
       "1       400      300       600  ...                    0   \n",
       "2       294      200       750  ...                    0   \n",
       "\n",
       "   ct_grenade_smokegrenade  t_grenade_smokegrenade  \\\n",
       "0                        0                       0   \n",
       "1                        0                       2   \n",
       "2                        0                       2   \n",
       "\n",
       "   ct_grenade_incendiarygrenade  t_grenade_incendiarygrenade  \\\n",
       "0                             0                            0   \n",
       "1                             0                            0   \n",
       "2                             0                            0   \n",
       "\n",
       "   ct_grenade_molotovgrenade  t_grenade_molotovgrenade  \\\n",
       "0                          0                         0   \n",
       "1                          0                         0   \n",
       "2                          0                         0   \n",
       "\n",
       "   ct_grenade_decoygrenade  t_grenade_decoygrenade  round_winner  \n",
       "0                        0                       0            CT  \n",
       "1                        0                       0            CT  \n",
       "2                        0                       0            CT  \n",
       "\n",
       "[3 rows x 97 columns]"
      ]
     },
     "execution_count": 4,
     "metadata": {},
     "output_type": "execute_result"
    }
   ],
   "source": [
    "df.head(3)"
   ]
  },
  {
   "cell_type": "markdown",
   "metadata": {},
   "source": [
    "Statment:\n",
    "\n",
    "Melihat 3 data teratas pada dataset."
   ]
  },
  {
   "cell_type": "markdown",
   "metadata": {},
   "source": [
    "# Exploratory Data Analysis (EDA)"
   ]
  },
  {
   "cell_type": "markdown",
   "metadata": {},
   "source": [
    "## Korelasi antar coulmn "
   ]
  },
  {
   "cell_type": "code",
   "execution_count": 5,
   "metadata": {},
   "outputs": [
    {
     "data": {
      "text/html": [
       "<div>\n",
       "<style scoped>\n",
       "    .dataframe tbody tr th:only-of-type {\n",
       "        vertical-align: middle;\n",
       "    }\n",
       "\n",
       "    .dataframe tbody tr th {\n",
       "        vertical-align: top;\n",
       "    }\n",
       "\n",
       "    .dataframe thead th {\n",
       "        text-align: right;\n",
       "    }\n",
       "</style>\n",
       "<table border=\"1\" class=\"dataframe\">\n",
       "  <thead>\n",
       "    <tr style=\"text-align: right;\">\n",
       "      <th></th>\n",
       "      <th>time_left</th>\n",
       "      <th>ct_score</th>\n",
       "      <th>t_score</th>\n",
       "      <th>bomb_planted</th>\n",
       "      <th>ct_health</th>\n",
       "      <th>t_health</th>\n",
       "      <th>ct_armor</th>\n",
       "      <th>t_armor</th>\n",
       "      <th>ct_money</th>\n",
       "      <th>t_money</th>\n",
       "      <th>...</th>\n",
       "      <th>ct_grenade_flashbang</th>\n",
       "      <th>t_grenade_flashbang</th>\n",
       "      <th>ct_grenade_smokegrenade</th>\n",
       "      <th>t_grenade_smokegrenade</th>\n",
       "      <th>ct_grenade_incendiarygrenade</th>\n",
       "      <th>t_grenade_incendiarygrenade</th>\n",
       "      <th>ct_grenade_molotovgrenade</th>\n",
       "      <th>t_grenade_molotovgrenade</th>\n",
       "      <th>ct_grenade_decoygrenade</th>\n",
       "      <th>t_grenade_decoygrenade</th>\n",
       "    </tr>\n",
       "  </thead>\n",
       "  <tbody>\n",
       "    <tr>\n",
       "      <th>time_left</th>\n",
       "      <td>1.000000</td>\n",
       "      <td>0.000381</td>\n",
       "      <td>-0.003067</td>\n",
       "      <td>-0.486048</td>\n",
       "      <td>0.684514</td>\n",
       "      <td>0.678952</td>\n",
       "      <td>-0.089950</td>\n",
       "      <td>-0.195579</td>\n",
       "      <td>0.374530</td>\n",
       "      <td>0.341717</td>\n",
       "      <td>...</td>\n",
       "      <td>0.006278</td>\n",
       "      <td>0.007462</td>\n",
       "      <td>0.108141</td>\n",
       "      <td>0.036235</td>\n",
       "      <td>0.128073</td>\n",
       "      <td>0.004142</td>\n",
       "      <td>0.058112</td>\n",
       "      <td>0.044942</td>\n",
       "      <td>0.010688</td>\n",
       "      <td>0.018366</td>\n",
       "    </tr>\n",
       "    <tr>\n",
       "      <th>ct_score</th>\n",
       "      <td>0.000381</td>\n",
       "      <td>1.000000</td>\n",
       "      <td>0.626726</td>\n",
       "      <td>-0.015707</td>\n",
       "      <td>0.016495</td>\n",
       "      <td>-0.010987</td>\n",
       "      <td>0.100518</td>\n",
       "      <td>0.034789</td>\n",
       "      <td>0.249416</td>\n",
       "      <td>0.074700</td>\n",
       "      <td>...</td>\n",
       "      <td>0.168219</td>\n",
       "      <td>0.051485</td>\n",
       "      <td>0.136987</td>\n",
       "      <td>0.038498</td>\n",
       "      <td>0.152342</td>\n",
       "      <td>0.008133</td>\n",
       "      <td>0.051174</td>\n",
       "      <td>0.062015</td>\n",
       "      <td>-0.011149</td>\n",
       "      <td>-0.004670</td>\n",
       "    </tr>\n",
       "    <tr>\n",
       "      <th>t_score</th>\n",
       "      <td>-0.003067</td>\n",
       "      <td>0.626726</td>\n",
       "      <td>1.000000</td>\n",
       "      <td>-0.010080</td>\n",
       "      <td>0.002840</td>\n",
       "      <td>0.001720</td>\n",
       "      <td>0.035370</td>\n",
       "      <td>0.081671</td>\n",
       "      <td>0.069768</td>\n",
       "      <td>0.258855</td>\n",
       "      <td>...</td>\n",
       "      <td>0.064676</td>\n",
       "      <td>0.118714</td>\n",
       "      <td>0.058564</td>\n",
       "      <td>0.104194</td>\n",
       "      <td>0.049208</td>\n",
       "      <td>0.011222</td>\n",
       "      <td>0.030615</td>\n",
       "      <td>0.144589</td>\n",
       "      <td>0.016507</td>\n",
       "      <td>-0.026379</td>\n",
       "    </tr>\n",
       "    <tr>\n",
       "      <th>bomb_planted</th>\n",
       "      <td>-0.486048</td>\n",
       "      <td>-0.015707</td>\n",
       "      <td>-0.010080</td>\n",
       "      <td>1.000000</td>\n",
       "      <td>-0.619132</td>\n",
       "      <td>-0.448040</td>\n",
       "      <td>-0.281474</td>\n",
       "      <td>-0.096619</td>\n",
       "      <td>-0.190107</td>\n",
       "      <td>-0.125822</td>\n",
       "      <td>...</td>\n",
       "      <td>-0.229871</td>\n",
       "      <td>-0.197067</td>\n",
       "      <td>-0.217222</td>\n",
       "      <td>-0.231708</td>\n",
       "      <td>-0.192438</td>\n",
       "      <td>0.015815</td>\n",
       "      <td>-0.022317</td>\n",
       "      <td>-0.220578</td>\n",
       "      <td>-0.033638</td>\n",
       "      <td>-0.024219</td>\n",
       "    </tr>\n",
       "    <tr>\n",
       "      <th>ct_health</th>\n",
       "      <td>0.684514</td>\n",
       "      <td>0.016495</td>\n",
       "      <td>0.002840</td>\n",
       "      <td>-0.619132</td>\n",
       "      <td>1.000000</td>\n",
       "      <td>0.756167</td>\n",
       "      <td>0.391429</td>\n",
       "      <td>0.140262</td>\n",
       "      <td>0.306399</td>\n",
       "      <td>0.217013</td>\n",
       "      <td>...</td>\n",
       "      <td>0.326589</td>\n",
       "      <td>0.248142</td>\n",
       "      <td>0.337015</td>\n",
       "      <td>0.266243</td>\n",
       "      <td>0.299532</td>\n",
       "      <td>-0.019960</td>\n",
       "      <td>0.046761</td>\n",
       "      <td>0.262061</td>\n",
       "      <td>0.046326</td>\n",
       "      <td>0.033921</td>\n",
       "    </tr>\n",
       "    <tr>\n",
       "      <th>...</th>\n",
       "      <td>...</td>\n",
       "      <td>...</td>\n",
       "      <td>...</td>\n",
       "      <td>...</td>\n",
       "      <td>...</td>\n",
       "      <td>...</td>\n",
       "      <td>...</td>\n",
       "      <td>...</td>\n",
       "      <td>...</td>\n",
       "      <td>...</td>\n",
       "      <td>...</td>\n",
       "      <td>...</td>\n",
       "      <td>...</td>\n",
       "      <td>...</td>\n",
       "      <td>...</td>\n",
       "      <td>...</td>\n",
       "      <td>...</td>\n",
       "      <td>...</td>\n",
       "      <td>...</td>\n",
       "      <td>...</td>\n",
       "      <td>...</td>\n",
       "    </tr>\n",
       "    <tr>\n",
       "      <th>t_grenade_incendiarygrenade</th>\n",
       "      <td>0.004142</td>\n",
       "      <td>0.008133</td>\n",
       "      <td>0.011222</td>\n",
       "      <td>0.015815</td>\n",
       "      <td>-0.019960</td>\n",
       "      <td>0.012683</td>\n",
       "      <td>-0.053678</td>\n",
       "      <td>0.040938</td>\n",
       "      <td>-0.000720</td>\n",
       "      <td>0.052548</td>\n",
       "      <td>...</td>\n",
       "      <td>-0.022308</td>\n",
       "      <td>0.054379</td>\n",
       "      <td>-0.017931</td>\n",
       "      <td>0.043893</td>\n",
       "      <td>-0.016379</td>\n",
       "      <td>1.000000</td>\n",
       "      <td>-0.020062</td>\n",
       "      <td>0.011937</td>\n",
       "      <td>-0.009436</td>\n",
       "      <td>-0.013646</td>\n",
       "    </tr>\n",
       "    <tr>\n",
       "      <th>ct_grenade_molotovgrenade</th>\n",
       "      <td>0.058112</td>\n",
       "      <td>0.051174</td>\n",
       "      <td>0.030615</td>\n",
       "      <td>-0.022317</td>\n",
       "      <td>0.046761</td>\n",
       "      <td>0.016732</td>\n",
       "      <td>0.080041</td>\n",
       "      <td>-0.068558</td>\n",
       "      <td>0.114220</td>\n",
       "      <td>0.023718</td>\n",
       "      <td>...</td>\n",
       "      <td>0.119602</td>\n",
       "      <td>-0.027156</td>\n",
       "      <td>0.110894</td>\n",
       "      <td>-0.018945</td>\n",
       "      <td>0.061805</td>\n",
       "      <td>-0.020062</td>\n",
       "      <td>1.000000</td>\n",
       "      <td>-0.015560</td>\n",
       "      <td>-0.007780</td>\n",
       "      <td>-0.005318</td>\n",
       "    </tr>\n",
       "    <tr>\n",
       "      <th>t_grenade_molotovgrenade</th>\n",
       "      <td>0.044942</td>\n",
       "      <td>0.062015</td>\n",
       "      <td>0.144589</td>\n",
       "      <td>-0.220578</td>\n",
       "      <td>0.262061</td>\n",
       "      <td>0.312744</td>\n",
       "      <td>0.292294</td>\n",
       "      <td>0.639853</td>\n",
       "      <td>-0.054578</td>\n",
       "      <td>0.176183</td>\n",
       "      <td>...</td>\n",
       "      <td>0.326849</td>\n",
       "      <td>0.818655</td>\n",
       "      <td>0.376916</td>\n",
       "      <td>0.812387</td>\n",
       "      <td>0.335175</td>\n",
       "      <td>0.011937</td>\n",
       "      <td>-0.015560</td>\n",
       "      <td>1.000000</td>\n",
       "      <td>0.053987</td>\n",
       "      <td>0.007665</td>\n",
       "    </tr>\n",
       "    <tr>\n",
       "      <th>ct_grenade_decoygrenade</th>\n",
       "      <td>0.010688</td>\n",
       "      <td>-0.011149</td>\n",
       "      <td>0.016507</td>\n",
       "      <td>-0.033638</td>\n",
       "      <td>0.046326</td>\n",
       "      <td>0.036673</td>\n",
       "      <td>0.096492</td>\n",
       "      <td>0.030713</td>\n",
       "      <td>-0.086894</td>\n",
       "      <td>-0.003800</td>\n",
       "      <td>...</td>\n",
       "      <td>0.044817</td>\n",
       "      <td>0.046699</td>\n",
       "      <td>0.068453</td>\n",
       "      <td>0.051160</td>\n",
       "      <td>0.030878</td>\n",
       "      <td>-0.009436</td>\n",
       "      <td>-0.007780</td>\n",
       "      <td>0.053987</td>\n",
       "      <td>1.000000</td>\n",
       "      <td>0.010776</td>\n",
       "    </tr>\n",
       "    <tr>\n",
       "      <th>t_grenade_decoygrenade</th>\n",
       "      <td>0.018366</td>\n",
       "      <td>-0.004670</td>\n",
       "      <td>-0.026379</td>\n",
       "      <td>-0.024219</td>\n",
       "      <td>0.033921</td>\n",
       "      <td>0.046655</td>\n",
       "      <td>0.042389</td>\n",
       "      <td>0.083507</td>\n",
       "      <td>-0.023366</td>\n",
       "      <td>-0.102335</td>\n",
       "      <td>...</td>\n",
       "      <td>0.025849</td>\n",
       "      <td>0.035920</td>\n",
       "      <td>0.030765</td>\n",
       "      <td>0.046719</td>\n",
       "      <td>0.040710</td>\n",
       "      <td>-0.013646</td>\n",
       "      <td>-0.005318</td>\n",
       "      <td>0.007665</td>\n",
       "      <td>0.010776</td>\n",
       "      <td>1.000000</td>\n",
       "    </tr>\n",
       "  </tbody>\n",
       "</table>\n",
       "<p>95 rows × 95 columns</p>\n",
       "</div>"
      ],
      "text/plain": [
       "                             time_left  ct_score   t_score  bomb_planted  \\\n",
       "time_left                     1.000000  0.000381 -0.003067     -0.486048   \n",
       "ct_score                      0.000381  1.000000  0.626726     -0.015707   \n",
       "t_score                      -0.003067  0.626726  1.000000     -0.010080   \n",
       "bomb_planted                 -0.486048 -0.015707 -0.010080      1.000000   \n",
       "ct_health                     0.684514  0.016495  0.002840     -0.619132   \n",
       "...                                ...       ...       ...           ...   \n",
       "t_grenade_incendiarygrenade   0.004142  0.008133  0.011222      0.015815   \n",
       "ct_grenade_molotovgrenade     0.058112  0.051174  0.030615     -0.022317   \n",
       "t_grenade_molotovgrenade      0.044942  0.062015  0.144589     -0.220578   \n",
       "ct_grenade_decoygrenade       0.010688 -0.011149  0.016507     -0.033638   \n",
       "t_grenade_decoygrenade        0.018366 -0.004670 -0.026379     -0.024219   \n",
       "\n",
       "                             ct_health  t_health  ct_armor   t_armor  \\\n",
       "time_left                     0.684514  0.678952 -0.089950 -0.195579   \n",
       "ct_score                      0.016495 -0.010987  0.100518  0.034789   \n",
       "t_score                       0.002840  0.001720  0.035370  0.081671   \n",
       "bomb_planted                 -0.619132 -0.448040 -0.281474 -0.096619   \n",
       "ct_health                     1.000000  0.756167  0.391429  0.140262   \n",
       "...                                ...       ...       ...       ...   \n",
       "t_grenade_incendiarygrenade  -0.019960  0.012683 -0.053678  0.040938   \n",
       "ct_grenade_molotovgrenade     0.046761  0.016732  0.080041 -0.068558   \n",
       "t_grenade_molotovgrenade      0.262061  0.312744  0.292294  0.639853   \n",
       "ct_grenade_decoygrenade       0.046326  0.036673  0.096492  0.030713   \n",
       "t_grenade_decoygrenade        0.033921  0.046655  0.042389  0.083507   \n",
       "\n",
       "                             ct_money   t_money  ...  ct_grenade_flashbang  \\\n",
       "time_left                    0.374530  0.341717  ...              0.006278   \n",
       "ct_score                     0.249416  0.074700  ...              0.168219   \n",
       "t_score                      0.069768  0.258855  ...              0.064676   \n",
       "bomb_planted                -0.190107 -0.125822  ...             -0.229871   \n",
       "ct_health                    0.306399  0.217013  ...              0.326589   \n",
       "...                               ...       ...  ...                   ...   \n",
       "t_grenade_incendiarygrenade -0.000720  0.052548  ...             -0.022308   \n",
       "ct_grenade_molotovgrenade    0.114220  0.023718  ...              0.119602   \n",
       "t_grenade_molotovgrenade    -0.054578  0.176183  ...              0.326849   \n",
       "ct_grenade_decoygrenade     -0.086894 -0.003800  ...              0.044817   \n",
       "t_grenade_decoygrenade      -0.023366 -0.102335  ...              0.025849   \n",
       "\n",
       "                             t_grenade_flashbang  ct_grenade_smokegrenade  \\\n",
       "time_left                               0.007462                 0.108141   \n",
       "ct_score                                0.051485                 0.136987   \n",
       "t_score                                 0.118714                 0.058564   \n",
       "bomb_planted                           -0.197067                -0.217222   \n",
       "ct_health                               0.248142                 0.337015   \n",
       "...                                          ...                      ...   \n",
       "t_grenade_incendiarygrenade             0.054379                -0.017931   \n",
       "ct_grenade_molotovgrenade              -0.027156                 0.110894   \n",
       "t_grenade_molotovgrenade                0.818655                 0.376916   \n",
       "ct_grenade_decoygrenade                 0.046699                 0.068453   \n",
       "t_grenade_decoygrenade                  0.035920                 0.030765   \n",
       "\n",
       "                             t_grenade_smokegrenade  \\\n",
       "time_left                                  0.036235   \n",
       "ct_score                                   0.038498   \n",
       "t_score                                    0.104194   \n",
       "bomb_planted                              -0.231708   \n",
       "ct_health                                  0.266243   \n",
       "...                                             ...   \n",
       "t_grenade_incendiarygrenade                0.043893   \n",
       "ct_grenade_molotovgrenade                 -0.018945   \n",
       "t_grenade_molotovgrenade                   0.812387   \n",
       "ct_grenade_decoygrenade                    0.051160   \n",
       "t_grenade_decoygrenade                     0.046719   \n",
       "\n",
       "                             ct_grenade_incendiarygrenade  \\\n",
       "time_left                                        0.128073   \n",
       "ct_score                                         0.152342   \n",
       "t_score                                          0.049208   \n",
       "bomb_planted                                    -0.192438   \n",
       "ct_health                                        0.299532   \n",
       "...                                                   ...   \n",
       "t_grenade_incendiarygrenade                     -0.016379   \n",
       "ct_grenade_molotovgrenade                        0.061805   \n",
       "t_grenade_molotovgrenade                         0.335175   \n",
       "ct_grenade_decoygrenade                          0.030878   \n",
       "t_grenade_decoygrenade                           0.040710   \n",
       "\n",
       "                             t_grenade_incendiarygrenade  \\\n",
       "time_left                                       0.004142   \n",
       "ct_score                                        0.008133   \n",
       "t_score                                         0.011222   \n",
       "bomb_planted                                    0.015815   \n",
       "ct_health                                      -0.019960   \n",
       "...                                                  ...   \n",
       "t_grenade_incendiarygrenade                     1.000000   \n",
       "ct_grenade_molotovgrenade                      -0.020062   \n",
       "t_grenade_molotovgrenade                        0.011937   \n",
       "ct_grenade_decoygrenade                        -0.009436   \n",
       "t_grenade_decoygrenade                         -0.013646   \n",
       "\n",
       "                             ct_grenade_molotovgrenade  \\\n",
       "time_left                                     0.058112   \n",
       "ct_score                                      0.051174   \n",
       "t_score                                       0.030615   \n",
       "bomb_planted                                 -0.022317   \n",
       "ct_health                                     0.046761   \n",
       "...                                                ...   \n",
       "t_grenade_incendiarygrenade                  -0.020062   \n",
       "ct_grenade_molotovgrenade                     1.000000   \n",
       "t_grenade_molotovgrenade                     -0.015560   \n",
       "ct_grenade_decoygrenade                      -0.007780   \n",
       "t_grenade_decoygrenade                       -0.005318   \n",
       "\n",
       "                             t_grenade_molotovgrenade  \\\n",
       "time_left                                    0.044942   \n",
       "ct_score                                     0.062015   \n",
       "t_score                                      0.144589   \n",
       "bomb_planted                                -0.220578   \n",
       "ct_health                                    0.262061   \n",
       "...                                               ...   \n",
       "t_grenade_incendiarygrenade                  0.011937   \n",
       "ct_grenade_molotovgrenade                   -0.015560   \n",
       "t_grenade_molotovgrenade                     1.000000   \n",
       "ct_grenade_decoygrenade                      0.053987   \n",
       "t_grenade_decoygrenade                       0.007665   \n",
       "\n",
       "                             ct_grenade_decoygrenade  t_grenade_decoygrenade  \n",
       "time_left                                   0.010688                0.018366  \n",
       "ct_score                                   -0.011149               -0.004670  \n",
       "t_score                                     0.016507               -0.026379  \n",
       "bomb_planted                               -0.033638               -0.024219  \n",
       "ct_health                                   0.046326                0.033921  \n",
       "...                                              ...                     ...  \n",
       "t_grenade_incendiarygrenade                -0.009436               -0.013646  \n",
       "ct_grenade_molotovgrenade                  -0.007780               -0.005318  \n",
       "t_grenade_molotovgrenade                    0.053987                0.007665  \n",
       "ct_grenade_decoygrenade                     1.000000                0.010776  \n",
       "t_grenade_decoygrenade                      0.010776                1.000000  \n",
       "\n",
       "[95 rows x 95 columns]"
      ]
     },
     "execution_count": 5,
     "metadata": {},
     "output_type": "execute_result"
    }
   ],
   "source": [
    "df.corr()"
   ]
  },
  {
   "cell_type": "markdown",
   "metadata": {},
   "source": [
    "Statment:\n",
    "\n",
    "Pada table korelasi diatas, dapat terlihat bahwa kolom yang akan mejadi target yaitu kolom *round_winner*, tidak termasuk dalam table diatas dimana artinya kolom target tersebut tidak memiliki korelasi apapun dengan data lainnya. Namun terdapat beberapa kolom yang memiliki korelasi cukup tinggi terhadap kolom lainnya pada dataset, antara lain kolom *time_left* dengan *bomb_planted* dan *ct_health*. \n",
    "\n",
    "Dikarenakan dari beberapa review mengenai korelasi kolom tidak menentukan akurasi dari model Klasifikasi, disini saya tidak melakukan drop yang memiliki korelasi rendah terhadap kolom lainnya."
   ]
  },
  {
   "cell_type": "markdown",
   "metadata": {},
   "source": [
    "## Melihat type data pada data target"
   ]
  },
  {
   "cell_type": "code",
   "execution_count": 6,
   "metadata": {},
   "outputs": [
    {
     "data": {
      "text/plain": [
       "T     50.981129\n",
       "CT    49.018871\n",
       "Name: round_winner, dtype: float64"
      ]
     },
     "execution_count": 6,
     "metadata": {},
     "output_type": "execute_result"
    },
    {
     "data": {
      "image/png": "[encoded data removed]",
      "text/plain": [
       "<Figure size 432x288 with 1 Axes>"
      ]
     },
     "metadata": {
      "needs_background": "light"
     },
     "output_type": "display_data"
    }
   ],
   "source": [
    "sns.countplot(data=df,x='round_winner')\n",
    "df.round_winner.value_counts() * 100 / len(df)"
   ]
  },
  {
   "cell_type": "markdown",
   "metadata": {},
   "source": [
    "Statment:\n",
    "\n",
    "Dari diagram diatas dapat dilihat bahwa type data pada data target adalah **Moderatly Balance**, dimana data pada kelas 0 dan 1 memiliki perbedaan yang tidak begitu signifikan hanya berbeda sekitar 1.9%. Sehingga pada dataset ini saya tidak akan melakukan metode SMOTE pada kolom target. "
   ]
  },
  {
   "cell_type": "markdown",
   "metadata": {},
   "source": [
    "## Melihat jumlah kemenangan di tiap map"
   ]
  },
  {
   "cell_type": "code",
   "execution_count": 7,
   "metadata": {},
   "outputs": [
    {
     "data": {
      "image/png": "[encoded data removed]",
      "text/plain": [
       "<Figure size 720x432 with 1 Axes>"
      ]
     },
     "metadata": {
      "needs_background": "light"
     },
     "output_type": "display_data"
    }
   ],
   "source": [
    "plt.figure(figsize=(10,6))\n",
    "ax = sns.countplot(x=\"map\", hue=\"round_winner\", data=df)\n",
    "ax.set(title='Round winners on each map')\n",
    "plt.show()"
   ]
  },
  {
   "cell_type": "markdown",
   "metadata": {},
   "source": [
    "Statment:\n",
    "\n",
    "Pada visualisasi diagram diatas dapat dilihat bahwa ada beberapa Map dimana terdapat fraksi Teroris maupun Anti-Teroris lebih unggul. Dimana untuk fraksi Teroris sangat unggul pada map **dust2** dan **inferno**, dengan keunggulan kurang lebih sekitar 2000 rounds. Sedangkan untuk Anti-Teroris dapat mengungguli pada map **nuke** dan **train**.\n",
    "\n",
    "Dimana dari EDA ini saja kita dapat melakukan analisa terhadap permainan yang akan dilakukan untuk penentuan kita menjadi fraksi Teroris maupun Anti-Teroris apabila bermain di map-map tersebut. `Uniknya pada dataset kali ini hanya terdapat 8 map yang menjadi tempat untuk bermain, padahal didalam game CSGO sendiri terdapat setidaknya ada 25 official maps`. Namun hal ini dapat dijelaskan mengenai dataset ini berasal, dimana dataset tersebut diambil dari turnamen-turnamen CSGO dari tahun 2019 hingga 2020 yang dimana Valve selaku pengembang game memiliki 8 Maps sebagai paling balance dan competitive diantara banyak map tersebut."
   ]
  },
  {
   "cell_type": "markdown",
   "metadata": {},
   "source": [
    "## Melihat senjata apa saja yang menjadi favorite di game"
   ]
  },
  {
   "cell_type": "code",
   "execution_count": 8,
   "metadata": {},
   "outputs": [
    {
     "data": {
      "image/png": "[encoded data removed]",
      "text/plain": [
       "<Figure size 1080x1440 with 1 Axes>"
      ]
     },
     "metadata": {
      "needs_background": "light"
     },
     "output_type": "display_data"
    }
   ],
   "source": [
    "weapons = ['ct_weapon_ak47', 't_weapon_ak47', 'ct_weapon_aug', 't_weapon_aug',\n",
    "           'ct_weapon_awp', 't_weapon_awp', 'ct_weapon_bizon', 't_weapon_bizon',\n",
    "           'ct_weapon_cz75auto', 't_weapon_cz75auto', 'ct_weapon_elite',\n",
    "           't_weapon_elite', 'ct_weapon_famas', 't_weapon_famas',\n",
    "           'ct_weapon_g3sg1', 't_weapon_g3sg1', 'ct_weapon_galilar',\n",
    "           't_weapon_galilar', 'ct_weapon_glock', 't_weapon_glock',\n",
    "           'ct_weapon_m249', 't_weapon_m249', 'ct_weapon_m4a1s', 't_weapon_m4a1s',\n",
    "           'ct_weapon_m4a4', 't_weapon_m4a4', 'ct_weapon_mac10', 't_weapon_mac10',\n",
    "           'ct_weapon_mag7', 't_weapon_mag7', 'ct_weapon_mp5sd', 't_weapon_mp5sd',\n",
    "           'ct_weapon_mp7', 't_weapon_mp7', 'ct_weapon_mp9', 't_weapon_mp9',\n",
    "           'ct_weapon_negev', 't_weapon_negev', 'ct_weapon_nova', 't_weapon_nova',\n",
    "           'ct_weapon_p90', 't_weapon_p90', 'ct_weapon_r8revolver',\n",
    "           't_weapon_r8revolver', 'ct_weapon_sawedoff', 't_weapon_sawedoff',\n",
    "           'ct_weapon_scar20', 't_weapon_scar20', 'ct_weapon_sg553',\n",
    "           't_weapon_sg553', 'ct_weapon_ssg08', 't_weapon_ssg08',\n",
    "           'ct_weapon_ump45', 't_weapon_ump45', 'ct_weapon_xm1014',\n",
    "           't_weapon_xm1014', 'ct_weapon_deagle', 't_weapon_deagle',\n",
    "           'ct_weapon_fiveseven', 't_weapon_fiveseven', 'ct_weapon_usps',\n",
    "           't_weapon_usps', 'ct_weapon_p250', 't_weapon_p250', 'ct_weapon_p2000',\n",
    "           't_weapon_p2000', 'ct_weapon_tec9', 't_weapon_tec9']\n",
    "\n",
    "outs = [0]*len(weapons)\n",
    "\n",
    "for i in range(0, len(weapons)):\n",
    "    outs[weapons.index(weapons[i])] = sum(df[weapons[i]])\n",
    "       \n",
    "for i in range(0, len(weapons)):\n",
    "    weapons[i] = [weapons[i], outs[i]]\n",
    "\n",
    "weapons.sort(key=lambda xx: xx[1], reverse=False)\n",
    "\n",
    "x = []\n",
    "y = []\n",
    "\n",
    "for i in range(0, len(weapons)):\n",
    "    x.append(weapons[i][0])\n",
    "    y.append(weapons[i][1])\n",
    "\n",
    "plt.figure(figsize=(15, 20))\n",
    "plt.title(\"Popular weapons.\")\n",
    "plt.grid(linestyle=\"--\")\n",
    "plt.xticks(rotation=61)\n",
    "plt.plot(y, x, linewidth=2.61, marker=\"o\")\n",
    "plt.show()                                "
   ]
  },
  {
   "cell_type": "markdown",
   "metadata": {},
   "source": [
    "Statment:\n",
    "\n",
    "Dapat dilihat pada visualisasi diagram diatas, dimana ada beberapa senjata yang menjadi andalan para setiap pemain dalam bermain game CSGO tersebut. Diantaranya Ak-47 untuk fraksi teroris dan M4a4 untuk fraksi Anti-teroris, dimana kedua senjata ini menjadi andalan untuk masing-masing fraksi. Buktinya kedua senjata tersebut berjumlah hampir 200.000 pemakaian dari keseluruhan dataset, kemudian diikuti oleh senjata-senjata lainnya.\n",
    "\n",
    "`Uniknya terdapat total ada 33 senjata dan 6 grenades yang ada pada game CSGO tersebut, namun hanya ada beberapa yang senjata yang sering digunakan oleh para pemain dalam hal ini para pemain pro`. Hal ini didukung dengan adanya senjata yang berjumlah 28 jenis dimana para pemain hanya menggunakannya <10 atau bahkan tidak pernah sama sekali. \n",
    "\n",
    "Penggunaan dari beberapa senjata tersebut tidak lepas dari faktor Meta atau senjata yang sedang digemari akibat dari faktor X yang tidak dapat dijelaskan dari dataset, antara lain ada faktor dari update dari kekuatan senjata, harga dari senjata ataupun faktor-faktor lainnya.\n",
    "\n",
    "**Disclaimer**:\n",
    "\n",
    "Untuk senjata glock dan usps yang berada pada peringkat 1 dan 2 merupakan senjata awal yang berupa pistol dimana setiap pemain pasti akan mendapatkannya di awal ronde permainan sedangkan untuk senjata lainnya merupakan pilihan dari pemain yang dibeli melalui market didalam game setiap rondenya ataupun mendapatkan senjata dari drop musuh ketika musuh tersebut terbunuh. Dimana hal ini dapat menjelaskan mengapa fraksi Anti Teroris memiliki kolom ct_weapon_AK47 padahal senjata AK47 khusus dimiliki oleh fraksi Teroris saja."
   ]
  },
  {
   "cell_type": "markdown",
   "metadata": {},
   "source": [
    "---\n",
    "# Data Preprocessing"
   ]
  },
  {
   "cell_type": "markdown",
   "metadata": {},
   "source": [
    "## Data Inference"
   ]
  },
  {
   "cell_type": "code",
   "execution_count": 9,
   "metadata": {},
   "outputs": [
    {
     "data": {
      "text/html": [
       "<div>\n",
       "<style scoped>\n",
       "    .dataframe tbody tr th:only-of-type {\n",
       "        vertical-align: middle;\n",
       "    }\n",
       "\n",
       "    .dataframe tbody tr th {\n",
       "        vertical-align: top;\n",
       "    }\n",
       "\n",
       "    .dataframe thead th {\n",
       "        text-align: right;\n",
       "    }\n",
       "</style>\n",
       "<table border=\"1\" class=\"dataframe\">\n",
       "  <thead>\n",
       "    <tr style=\"text-align: right;\">\n",
       "      <th></th>\n",
       "      <th>time_left</th>\n",
       "      <th>ct_score</th>\n",
       "      <th>t_score</th>\n",
       "      <th>map</th>\n",
       "      <th>bomb_planted</th>\n",
       "      <th>ct_health</th>\n",
       "      <th>t_health</th>\n",
       "      <th>ct_armor</th>\n",
       "      <th>t_armor</th>\n",
       "      <th>ct_money</th>\n",
       "      <th>...</th>\n",
       "      <th>t_grenade_flashbang</th>\n",
       "      <th>ct_grenade_smokegrenade</th>\n",
       "      <th>t_grenade_smokegrenade</th>\n",
       "      <th>ct_grenade_incendiarygrenade</th>\n",
       "      <th>t_grenade_incendiarygrenade</th>\n",
       "      <th>ct_grenade_molotovgrenade</th>\n",
       "      <th>t_grenade_molotovgrenade</th>\n",
       "      <th>ct_grenade_decoygrenade</th>\n",
       "      <th>t_grenade_decoygrenade</th>\n",
       "      <th>round_winner</th>\n",
       "    </tr>\n",
       "  </thead>\n",
       "  <tbody>\n",
       "    <tr>\n",
       "      <th>47053</th>\n",
       "      <td>175.00</td>\n",
       "      <td>11</td>\n",
       "      <td>4</td>\n",
       "      <td>vertigo</td>\n",
       "      <td>0.0</td>\n",
       "      <td>500</td>\n",
       "      <td>500</td>\n",
       "      <td>400</td>\n",
       "      <td>300</td>\n",
       "      <td>700</td>\n",
       "      <td>...</td>\n",
       "      <td>1</td>\n",
       "      <td>0</td>\n",
       "      <td>1</td>\n",
       "      <td>0</td>\n",
       "      <td>0</td>\n",
       "      <td>0</td>\n",
       "      <td>0</td>\n",
       "      <td>0</td>\n",
       "      <td>1</td>\n",
       "      <td>CT</td>\n",
       "    </tr>\n",
       "    <tr>\n",
       "      <th>28740</th>\n",
       "      <td>94.95</td>\n",
       "      <td>8</td>\n",
       "      <td>4</td>\n",
       "      <td>dust2</td>\n",
       "      <td>0.0</td>\n",
       "      <td>400</td>\n",
       "      <td>450</td>\n",
       "      <td>400</td>\n",
       "      <td>477</td>\n",
       "      <td>10300</td>\n",
       "      <td>...</td>\n",
       "      <td>2</td>\n",
       "      <td>2</td>\n",
       "      <td>2</td>\n",
       "      <td>3</td>\n",
       "      <td>0</td>\n",
       "      <td>0</td>\n",
       "      <td>0</td>\n",
       "      <td>0</td>\n",
       "      <td>0</td>\n",
       "      <td>CT</td>\n",
       "    </tr>\n",
       "    <tr>\n",
       "      <th>92746</th>\n",
       "      <td>14.93</td>\n",
       "      <td>14</td>\n",
       "      <td>10</td>\n",
       "      <td>dust2</td>\n",
       "      <td>0.0</td>\n",
       "      <td>366</td>\n",
       "      <td>100</td>\n",
       "      <td>395</td>\n",
       "      <td>98</td>\n",
       "      <td>2350</td>\n",
       "      <td>...</td>\n",
       "      <td>0</td>\n",
       "      <td>1</td>\n",
       "      <td>0</td>\n",
       "      <td>0</td>\n",
       "      <td>0</td>\n",
       "      <td>0</td>\n",
       "      <td>1</td>\n",
       "      <td>0</td>\n",
       "      <td>0</td>\n",
       "      <td>CT</td>\n",
       "    </tr>\n",
       "  </tbody>\n",
       "</table>\n",
       "<p>3 rows × 97 columns</p>\n",
       "</div>"
      ],
      "text/plain": [
       "       time_left  ct_score  t_score      map  bomb_planted  ct_health  \\\n",
       "47053     175.00        11        4  vertigo           0.0        500   \n",
       "28740      94.95         8        4    dust2           0.0        400   \n",
       "92746      14.93        14       10    dust2           0.0        366   \n",
       "\n",
       "       t_health  ct_armor  t_armor  ct_money  ...  t_grenade_flashbang  \\\n",
       "47053       500       400      300       700  ...                    1   \n",
       "28740       450       400      477     10300  ...                    2   \n",
       "92746       100       395       98      2350  ...                    0   \n",
       "\n",
       "       ct_grenade_smokegrenade  t_grenade_smokegrenade  \\\n",
       "47053                        0                       1   \n",
       "28740                        2                       2   \n",
       "92746                        1                       0   \n",
       "\n",
       "       ct_grenade_incendiarygrenade  t_grenade_incendiarygrenade  \\\n",
       "47053                             0                            0   \n",
       "28740                             3                            0   \n",
       "92746                             0                            0   \n",
       "\n",
       "       ct_grenade_molotovgrenade  t_grenade_molotovgrenade  \\\n",
       "47053                          0                         0   \n",
       "28740                          0                         0   \n",
       "92746                          0                         1   \n",
       "\n",
       "       ct_grenade_decoygrenade  t_grenade_decoygrenade  round_winner  \n",
       "47053                        0                       1            CT  \n",
       "28740                        0                       0            CT  \n",
       "92746                        0                       0            CT  \n",
       "\n",
       "[3 rows x 97 columns]"
      ]
     },
     "execution_count": 9,
     "metadata": {},
     "output_type": "execute_result"
    }
   ],
   "source": [
    "data_inf = df.sample(15, random_state=42)\n",
    "data_inf.head(3)"
   ]
  },
  {
   "cell_type": "markdown",
   "metadata": {},
   "source": [
    "Statment:\n",
    "\n",
    "Mengambil sample pada dataset berjumlah 15 (Data Inference), yang nanti akan digunakan sebagai data baru untuk melihat hasil prediksi dari model yang telah dibuat."
   ]
  },
  {
   "cell_type": "code",
   "execution_count": 10,
   "metadata": {},
   "outputs": [
    {
     "data": {
      "text/html": [
       "<div>\n",
       "<style scoped>\n",
       "    .dataframe tbody tr th:only-of-type {\n",
       "        vertical-align: middle;\n",
       "    }\n",
       "\n",
       "    .dataframe tbody tr th {\n",
       "        vertical-align: top;\n",
       "    }\n",
       "\n",
       "    .dataframe thead th {\n",
       "        text-align: right;\n",
       "    }\n",
       "</style>\n",
       "<table border=\"1\" class=\"dataframe\">\n",
       "  <thead>\n",
       "    <tr style=\"text-align: right;\">\n",
       "      <th></th>\n",
       "      <th>time_left</th>\n",
       "      <th>ct_score</th>\n",
       "      <th>t_score</th>\n",
       "      <th>map</th>\n",
       "      <th>bomb_planted</th>\n",
       "      <th>ct_health</th>\n",
       "      <th>t_health</th>\n",
       "      <th>ct_armor</th>\n",
       "      <th>t_armor</th>\n",
       "      <th>ct_money</th>\n",
       "      <th>...</th>\n",
       "      <th>t_grenade_flashbang</th>\n",
       "      <th>ct_grenade_smokegrenade</th>\n",
       "      <th>t_grenade_smokegrenade</th>\n",
       "      <th>ct_grenade_incendiarygrenade</th>\n",
       "      <th>t_grenade_incendiarygrenade</th>\n",
       "      <th>ct_grenade_molotovgrenade</th>\n",
       "      <th>t_grenade_molotovgrenade</th>\n",
       "      <th>ct_grenade_decoygrenade</th>\n",
       "      <th>t_grenade_decoygrenade</th>\n",
       "      <th>round_winner</th>\n",
       "    </tr>\n",
       "  </thead>\n",
       "  <tbody>\n",
       "    <tr>\n",
       "      <th>0</th>\n",
       "      <td>175.00</td>\n",
       "      <td>0</td>\n",
       "      <td>0</td>\n",
       "      <td>dust2</td>\n",
       "      <td>0.0</td>\n",
       "      <td>500</td>\n",
       "      <td>500</td>\n",
       "      <td>0</td>\n",
       "      <td>0</td>\n",
       "      <td>4000</td>\n",
       "      <td>...</td>\n",
       "      <td>0</td>\n",
       "      <td>0</td>\n",
       "      <td>0</td>\n",
       "      <td>0</td>\n",
       "      <td>0</td>\n",
       "      <td>0</td>\n",
       "      <td>0</td>\n",
       "      <td>0</td>\n",
       "      <td>0</td>\n",
       "      <td>CT</td>\n",
       "    </tr>\n",
       "    <tr>\n",
       "      <th>1</th>\n",
       "      <td>156.03</td>\n",
       "      <td>0</td>\n",
       "      <td>0</td>\n",
       "      <td>dust2</td>\n",
       "      <td>0.0</td>\n",
       "      <td>500</td>\n",
       "      <td>500</td>\n",
       "      <td>400</td>\n",
       "      <td>300</td>\n",
       "      <td>600</td>\n",
       "      <td>...</td>\n",
       "      <td>0</td>\n",
       "      <td>0</td>\n",
       "      <td>2</td>\n",
       "      <td>0</td>\n",
       "      <td>0</td>\n",
       "      <td>0</td>\n",
       "      <td>0</td>\n",
       "      <td>0</td>\n",
       "      <td>0</td>\n",
       "      <td>CT</td>\n",
       "    </tr>\n",
       "    <tr>\n",
       "      <th>2</th>\n",
       "      <td>96.03</td>\n",
       "      <td>0</td>\n",
       "      <td>0</td>\n",
       "      <td>dust2</td>\n",
       "      <td>0.0</td>\n",
       "      <td>391</td>\n",
       "      <td>400</td>\n",
       "      <td>294</td>\n",
       "      <td>200</td>\n",
       "      <td>750</td>\n",
       "      <td>...</td>\n",
       "      <td>0</td>\n",
       "      <td>0</td>\n",
       "      <td>2</td>\n",
       "      <td>0</td>\n",
       "      <td>0</td>\n",
       "      <td>0</td>\n",
       "      <td>0</td>\n",
       "      <td>0</td>\n",
       "      <td>0</td>\n",
       "      <td>CT</td>\n",
       "    </tr>\n",
       "  </tbody>\n",
       "</table>\n",
       "<p>3 rows × 97 columns</p>\n",
       "</div>"
      ],
      "text/plain": [
       "   time_left  ct_score  t_score    map  bomb_planted  ct_health  t_health  \\\n",
       "0     175.00         0        0  dust2           0.0        500       500   \n",
       "1     156.03         0        0  dust2           0.0        500       500   \n",
       "2      96.03         0        0  dust2           0.0        391       400   \n",
       "\n",
       "   ct_armor  t_armor  ct_money  ...  t_grenade_flashbang  \\\n",
       "0         0        0      4000  ...                    0   \n",
       "1       400      300       600  ...                    0   \n",
       "2       294      200       750  ...                    0   \n",
       "\n",
       "   ct_grenade_smokegrenade  t_grenade_smokegrenade  \\\n",
       "0                        0                       0   \n",
       "1                        0                       2   \n",
       "2                        0                       2   \n",
       "\n",
       "   ct_grenade_incendiarygrenade  t_grenade_incendiarygrenade  \\\n",
       "0                             0                            0   \n",
       "1                             0                            0   \n",
       "2                             0                            0   \n",
       "\n",
       "   ct_grenade_molotovgrenade  t_grenade_molotovgrenade  \\\n",
       "0                          0                         0   \n",
       "1                          0                         0   \n",
       "2                          0                         0   \n",
       "\n",
       "   ct_grenade_decoygrenade  t_grenade_decoygrenade  round_winner  \n",
       "0                        0                       0            CT  \n",
       "1                        0                       0            CT  \n",
       "2                        0                       0            CT  \n",
       "\n",
       "[3 rows x 97 columns]"
      ]
     },
     "execution_count": 10,
     "metadata": {},
     "output_type": "execute_result"
    }
   ],
   "source": [
    "data_train_set = df.drop(data_inf.index)\n",
    "data_train_set.head(3)"
   ]
  },
  {
   "cell_type": "markdown",
   "metadata": {},
   "source": [
    "Statment:\n",
    "\n",
    "Menghapus seluruh data inference pada dataset dan selanjutnya membentuk dataset untuk data Training"
   ]
  },
  {
   "cell_type": "code",
   "execution_count": 11,
   "metadata": {},
   "outputs": [
    {
     "data": {
      "text/html": [
       "<div>\n",
       "<style scoped>\n",
       "    .dataframe tbody tr th:only-of-type {\n",
       "        vertical-align: middle;\n",
       "    }\n",
       "\n",
       "    .dataframe tbody tr th {\n",
       "        vertical-align: top;\n",
       "    }\n",
       "\n",
       "    .dataframe thead th {\n",
       "        text-align: right;\n",
       "    }\n",
       "</style>\n",
       "<table border=\"1\" class=\"dataframe\">\n",
       "  <thead>\n",
       "    <tr style=\"text-align: right;\">\n",
       "      <th></th>\n",
       "      <th>time_left</th>\n",
       "      <th>ct_score</th>\n",
       "      <th>t_score</th>\n",
       "      <th>map</th>\n",
       "      <th>bomb_planted</th>\n",
       "      <th>ct_health</th>\n",
       "      <th>t_health</th>\n",
       "      <th>ct_armor</th>\n",
       "      <th>t_armor</th>\n",
       "      <th>ct_money</th>\n",
       "      <th>...</th>\n",
       "      <th>t_grenade_flashbang</th>\n",
       "      <th>ct_grenade_smokegrenade</th>\n",
       "      <th>t_grenade_smokegrenade</th>\n",
       "      <th>ct_grenade_incendiarygrenade</th>\n",
       "      <th>t_grenade_incendiarygrenade</th>\n",
       "      <th>ct_grenade_molotovgrenade</th>\n",
       "      <th>t_grenade_molotovgrenade</th>\n",
       "      <th>ct_grenade_decoygrenade</th>\n",
       "      <th>t_grenade_decoygrenade</th>\n",
       "      <th>round_winner</th>\n",
       "    </tr>\n",
       "  </thead>\n",
       "  <tbody>\n",
       "    <tr>\n",
       "      <th>12</th>\n",
       "      <td>5.77</td>\n",
       "      <td>6</td>\n",
       "      <td>1</td>\n",
       "      <td>train</td>\n",
       "      <td>1.0</td>\n",
       "      <td>300</td>\n",
       "      <td>459</td>\n",
       "      <td>282</td>\n",
       "      <td>486</td>\n",
       "      <td>4400</td>\n",
       "      <td>...</td>\n",
       "      <td>0</td>\n",
       "      <td>2</td>\n",
       "      <td>1</td>\n",
       "      <td>1</td>\n",
       "      <td>1</td>\n",
       "      <td>0</td>\n",
       "      <td>1</td>\n",
       "      <td>0</td>\n",
       "      <td>0</td>\n",
       "      <td>T</td>\n",
       "    </tr>\n",
       "    <tr>\n",
       "      <th>13</th>\n",
       "      <td>175.00</td>\n",
       "      <td>4</td>\n",
       "      <td>3</td>\n",
       "      <td>inferno</td>\n",
       "      <td>0.0</td>\n",
       "      <td>500</td>\n",
       "      <td>500</td>\n",
       "      <td>284</td>\n",
       "      <td>0</td>\n",
       "      <td>12000</td>\n",
       "      <td>...</td>\n",
       "      <td>0</td>\n",
       "      <td>2</td>\n",
       "      <td>0</td>\n",
       "      <td>1</td>\n",
       "      <td>0</td>\n",
       "      <td>0</td>\n",
       "      <td>0</td>\n",
       "      <td>0</td>\n",
       "      <td>0</td>\n",
       "      <td>CT</td>\n",
       "    </tr>\n",
       "    <tr>\n",
       "      <th>14</th>\n",
       "      <td>169.95</td>\n",
       "      <td>7</td>\n",
       "      <td>2</td>\n",
       "      <td>dust2</td>\n",
       "      <td>0.0</td>\n",
       "      <td>500</td>\n",
       "      <td>500</td>\n",
       "      <td>197</td>\n",
       "      <td>0</td>\n",
       "      <td>38050</td>\n",
       "      <td>...</td>\n",
       "      <td>0</td>\n",
       "      <td>0</td>\n",
       "      <td>0</td>\n",
       "      <td>0</td>\n",
       "      <td>0</td>\n",
       "      <td>0</td>\n",
       "      <td>0</td>\n",
       "      <td>0</td>\n",
       "      <td>0</td>\n",
       "      <td>CT</td>\n",
       "    </tr>\n",
       "  </tbody>\n",
       "</table>\n",
       "<p>3 rows × 97 columns</p>\n",
       "</div>"
      ],
      "text/plain": [
       "    time_left  ct_score  t_score      map  bomb_planted  ct_health  t_health  \\\n",
       "12       5.77         6        1    train           1.0        300       459   \n",
       "13     175.00         4        3  inferno           0.0        500       500   \n",
       "14     169.95         7        2    dust2           0.0        500       500   \n",
       "\n",
       "    ct_armor  t_armor  ct_money  ...  t_grenade_flashbang  \\\n",
       "12       282      486      4400  ...                    0   \n",
       "13       284        0     12000  ...                    0   \n",
       "14       197        0     38050  ...                    0   \n",
       "\n",
       "    ct_grenade_smokegrenade  t_grenade_smokegrenade  \\\n",
       "12                        2                       1   \n",
       "13                        2                       0   \n",
       "14                        0                       0   \n",
       "\n",
       "    ct_grenade_incendiarygrenade  t_grenade_incendiarygrenade  \\\n",
       "12                             1                            1   \n",
       "13                             1                            0   \n",
       "14                             0                            0   \n",
       "\n",
       "    ct_grenade_molotovgrenade  t_grenade_molotovgrenade  \\\n",
       "12                          0                         1   \n",
       "13                          0                         0   \n",
       "14                          0                         0   \n",
       "\n",
       "    ct_grenade_decoygrenade  t_grenade_decoygrenade  round_winner  \n",
       "12                        0                       0             T  \n",
       "13                        0                       0            CT  \n",
       "14                        0                       0            CT  \n",
       "\n",
       "[3 rows x 97 columns]"
      ]
     },
     "execution_count": 11,
     "metadata": {},
     "output_type": "execute_result"
    }
   ],
   "source": [
    "data_train_set.reset_index(drop=True, inplace=True)\n",
    "data_inf.reset_index(drop=True, inplace=True)\n",
    "data_inf.tail(3)"
   ]
  },
  {
   "cell_type": "markdown",
   "metadata": {},
   "source": [
    "Statment: \n",
    "\n",
    " Melakukan reset index pada kedua dataset yang telah terbentuk. Hal ini dilakukan agar pada saat data dimasukkan ke dalam model tidak akan menimbulkan error dikarenakan index yang tidak tersusun."
   ]
  },
  {
   "cell_type": "markdown",
   "metadata": {},
   "source": [
    "## Split Dataset (Data Training & Data Testing)"
   ]
  },
  {
   "cell_type": "code",
   "execution_count": 12,
   "metadata": {},
   "outputs": [
    {
     "data": {
      "text/plain": [
       "T     62399\n",
       "CT    59996\n",
       "Name: round_winner, dtype: int64"
      ]
     },
     "execution_count": 12,
     "metadata": {},
     "output_type": "execute_result"
    }
   ],
   "source": [
    "X = data_train_set.drop(\"round_winner\", axis=1)\n",
    "y = data_train_set[\"round_winner\"]\n",
    "y.value_counts()"
   ]
  },
  {
   "cell_type": "markdown",
   "metadata": {},
   "source": [
    "Statment:\n",
    "\n",
    "Melakukan split antara data X (Feature) dan y (target). Pada kasus ini kolom `round_winner` yang akan menjadi kolom target dari model."
   ]
  },
  {
   "cell_type": "code",
   "execution_count": 13,
   "metadata": {},
   "outputs": [
    {
     "name": "stdout",
     "output_type": "stream",
     "text": [
      "Train size:  (97916, 96)\n",
      "Test size:  (24479, 96)\n"
     ]
    }
   ],
   "source": [
    "X_train, X_test, y_train, y_test = train_test_split(X, y, test_size=0.2, random_state=42)\n",
    "\n",
    "print(\"Train size: \", X_train.shape)\n",
    "print(\"Test size: \", X_test.shape)"
   ]
  },
  {
   "cell_type": "markdown",
   "metadata": {},
   "source": [
    "Statment:\n",
    "\n",
    "Pada tahap ini akan dilakukan split data berupa data Training dan data Testing, untuk settingan besaran datanya adalah sebesar 80% Data Training dan 20% untuk Data testing."
   ]
  },
  {
   "cell_type": "markdown",
   "metadata": {},
   "source": [
    "## Handling Missing Value"
   ]
  },
  {
   "cell_type": "code",
   "execution_count": 14,
   "metadata": {},
   "outputs": [
    {
     "data": {
      "text/plain": [
       "0"
      ]
     },
     "execution_count": 14,
     "metadata": {},
     "output_type": "execute_result"
    }
   ],
   "source": [
    "df.isnull().sum().sum()"
   ]
  },
  {
   "cell_type": "markdown",
   "metadata": {},
   "source": [
    "Statment:\n",
    "\n",
    "Pada tahap Handling Missing Value ini tidak akan diakukan, dikarenakan dataset yang digunakan tidak memiliki data Null di semua kolomnya. Sehingga proses ini akan di skip yang selanjutnya akan masuk ke bagian Feature Engineering."
   ]
  },
  {
   "cell_type": "markdown",
   "metadata": {},
   "source": [
    "---\n",
    "# Feature Engineering"
   ]
  },
  {
   "cell_type": "markdown",
   "metadata": {},
   "source": [
    "## Handling Outlier"
   ]
  },
  {
   "cell_type": "code",
   "execution_count": 15,
   "metadata": {},
   "outputs": [
    {
     "name": "stdout",
     "output_type": "stream",
     "text": [
      "Kolom Skew Distribution : ['ct_score', 'bomb_planted', 'ct_health', 't_health', 'ct_armor', 'ct_money', 't_money', 'ct_defuse_kits', 'ct_players_alive', 't_players_alive', 'ct_weapon_ak47', 't_weapon_ak47', 'ct_weapon_aug', 't_weapon_aug', 'ct_weapon_awp', 't_weapon_awp', 't_weapon_bizon', 'ct_weapon_cz75auto', 't_weapon_cz75auto', 'ct_weapon_elite', 't_weapon_elite', 'ct_weapon_famas', 't_weapon_famas', 't_weapon_g3sg1', 'ct_weapon_galilar', 't_weapon_galilar', 'ct_weapon_glock', 't_weapon_glock', 'ct_weapon_m249', 'ct_weapon_m4a1s', 't_weapon_m4a1s', 'ct_weapon_m4a4', 't_weapon_m4a4', 'ct_weapon_mac10', 't_weapon_mac10', 'ct_weapon_mag7', 't_weapon_mag7', 'ct_weapon_mp5sd', 't_weapon_mp5sd', 'ct_weapon_mp7', 't_weapon_mp7', 'ct_weapon_mp9', 't_weapon_mp9', 't_weapon_negev', 'ct_weapon_nova', 't_weapon_nova', 'ct_weapon_p90', 't_weapon_p90', 't_weapon_r8revolver', 't_weapon_sawedoff', 'ct_weapon_scar20', 't_weapon_scar20', 'ct_weapon_sg553', 't_weapon_sg553', 'ct_weapon_ssg08', 't_weapon_ssg08', 'ct_weapon_ump45', 't_weapon_ump45', 'ct_weapon_xm1014', 't_weapon_xm1014', 'ct_weapon_deagle', 't_weapon_deagle', 'ct_weapon_fiveseven', 't_weapon_fiveseven', 't_weapon_usps', 'ct_weapon_p250', 't_weapon_p250', 'ct_weapon_p2000', 't_weapon_p2000', 'ct_weapon_tec9', 't_weapon_tec9', 'ct_grenade_hegrenade', 't_grenade_hegrenade', 't_grenade_flashbang', 'ct_grenade_smokegrenade', 't_grenade_smokegrenade', 'ct_grenade_incendiarygrenade', 't_grenade_incendiarygrenade', 'ct_grenade_molotovgrenade', 't_grenade_molotovgrenade', 'ct_grenade_decoygrenade', 't_grenade_decoygrenade']\n",
      "==========================================================================================================================================================================\n",
      "Kolom Normal Distribution : ['time_left', 't_score', 't_armor', 'ct_helmets', 't_helmets', 'ct_weapon_bizon', 'ct_weapon_g3sg1', 't_weapon_m249', 'ct_weapon_negev', 'ct_weapon_r8revolver', 'ct_weapon_sawedoff', 'ct_weapon_usps', 'ct_grenade_flashbang']\n",
      "==========================================================================================================================================================================\n"
     ]
    }
   ],
   "source": [
    "dist_check = X_train.skew(numeric_only=True)\n",
    "\n",
    "normal_dist = []\n",
    "skew_dist = []\n",
    "\n",
    "for i in range(len(dist_check)):\n",
    "    if dist_check.values[i] < -0.5:\n",
    "        skew_dist.append(dist_check.index[i])\n",
    "    elif dist_check.values[i] > 0.5:\n",
    "        skew_dist.append(dist_check.index[i])\n",
    "    else:\n",
    "        normal_dist.append(dist_check.index[i])\n",
    "        \n",
    "print('Kolom Skew Distribution :', skew_dist)\n",
    "print(\"==================================\"*5)\n",
    "\n",
    "print('Kolom Normal Distribution :',normal_dist)\n",
    "print(\"==================================\"*5)"
   ]
  },
  {
   "cell_type": "markdown",
   "metadata": {},
   "source": [
    "\n",
    "Statment: \n",
    "\n",
    "Pada hasil diatas dapat dilihat bahwa kolom yang memilki distribusi skew pada dataset ini banyak sekali, sedangkan untuk yang normal distribution hanya ada beberapa dari keseluruhan kolom."
   ]
  },
  {
   "cell_type": "code",
   "execution_count": 16,
   "metadata": {},
   "outputs": [
    {
     "name": "stdout",
     "output_type": "stream",
     "text": [
      "{'Column': 'ct_score', 'Total Outliers': 470, 'Percentage': 0.48}\n",
      "{'Column': 'bomb_planted', 'Total Outliers': 10956, 'Percentage': 11.19}\n",
      "{'Column': 'ct_health', 'Total Outliers': 6425, 'Percentage': 6.56}\n",
      "{'Column': 't_health', 'Total Outliers': 2503, 'Percentage': 2.56}\n",
      "{'Column': 'ct_armor', 'Total Outliers': 0, 'Percentage': 0.0}\n",
      "{'Column': 'ct_money', 'Total Outliers': 3674, 'Percentage': 3.75}\n",
      "{'Column': 't_money', 'Total Outliers': 2508, 'Percentage': 2.56}\n",
      "{'Column': 'ct_defuse_kits', 'Total Outliers': 0, 'Percentage': 0.0}\n",
      "{'Column': 'ct_players_alive', 'Total Outliers': 12432, 'Percentage': 12.7}\n",
      "{'Column': 't_players_alive', 'Total Outliers': 11765, 'Percentage': 12.02}\n",
      "{'Column': 'ct_weapon_ak47', 'Total Outliers': 20888, 'Percentage': 21.33}\n",
      "{'Column': 't_weapon_ak47', 'Total Outliers': 0, 'Percentage': 0.0}\n",
      "{'Column': 'ct_weapon_aug', 'Total Outliers': 9840, 'Percentage': 10.05}\n",
      "{'Column': 't_weapon_aug', 'Total Outliers': 701, 'Percentage': 0.72}\n",
      "{'Column': 'ct_weapon_awp', 'Total Outliers': 140, 'Percentage': 0.14}\n",
      "{'Column': 't_weapon_awp', 'Total Outliers': 5, 'Percentage': 0.01}\n",
      "{'Column': 't_weapon_bizon', 'Total Outliers': 9, 'Percentage': 0.01}\n",
      "{'Column': 'ct_weapon_cz75auto', 'Total Outliers': 12051, 'Percentage': 12.31}\n",
      "{'Column': 't_weapon_cz75auto', 'Total Outliers': 8396, 'Percentage': 8.57}\n",
      "{'Column': 'ct_weapon_elite', 'Total Outliers': 395, 'Percentage': 0.4}\n",
      "{'Column': 't_weapon_elite', 'Total Outliers': 175, 'Percentage': 0.18}\n",
      "{'Column': 'ct_weapon_famas', 'Total Outliers': 8558, 'Percentage': 8.74}\n",
      "{'Column': 't_weapon_famas', 'Total Outliers': 475, 'Percentage': 0.49}\n",
      "{'Column': 't_weapon_g3sg1', 'Total Outliers': 54, 'Percentage': 0.06}\n",
      "{'Column': 'ct_weapon_galilar', 'Total Outliers': 1013, 'Percentage': 1.03}\n",
      "{'Column': 't_weapon_galilar', 'Total Outliers': 8228, 'Percentage': 8.4}\n",
      "{'Column': 'ct_weapon_glock', 'Total Outliers': 632, 'Percentage': 0.65}\n",
      "{'Column': 't_weapon_glock', 'Total Outliers': 0, 'Percentage': 0.0}\n",
      "{'Column': 'ct_weapon_m249', 'Total Outliers': 1, 'Percentage': 0.0}\n",
      "{'Column': 'ct_weapon_m4a1s', 'Total Outliers': 5865, 'Percentage': 5.99}\n",
      "{'Column': 't_weapon_m4a1s', 'Total Outliers': 275, 'Percentage': 0.28}\n",
      "{'Column': 'ct_weapon_m4a4', 'Total Outliers': 0, 'Percentage': 0.0}\n",
      "{'Column': 't_weapon_m4a4', 'Total Outliers': 4684, 'Percentage': 4.78}\n",
      "{'Column': 'ct_weapon_mac10', 'Total Outliers': 700, 'Percentage': 0.71}\n",
      "{'Column': 't_weapon_mac10', 'Total Outliers': 7636, 'Percentage': 7.8}\n",
      "{'Column': 'ct_weapon_mag7', 'Total Outliers': 431, 'Percentage': 0.44}\n",
      "{'Column': 't_weapon_mag7', 'Total Outliers': 4, 'Percentage': 0.0}\n",
      "{'Column': 'ct_weapon_mp5sd', 'Total Outliers': 144, 'Percentage': 0.15}\n",
      "{'Column': 't_weapon_mp5sd', 'Total Outliers': 257, 'Percentage': 0.26}\n",
      "{'Column': 'ct_weapon_mp7', 'Total Outliers': 199, 'Percentage': 0.2}\n",
      "{'Column': 't_weapon_mp7', 'Total Outliers': 191, 'Percentage': 0.2}\n",
      "{'Column': 'ct_weapon_mp9', 'Total Outliers': 10585, 'Percentage': 10.81}\n",
      "{'Column': 't_weapon_mp9', 'Total Outliers': 513, 'Percentage': 0.52}\n",
      "{'Column': 't_weapon_negev', 'Total Outliers': 1, 'Percentage': 0.0}\n",
      "{'Column': 'ct_weapon_nova', 'Total Outliers': 88, 'Percentage': 0.09}\n",
      "{'Column': 't_weapon_nova', 'Total Outliers': 11, 'Percentage': 0.01}\n",
      "{'Column': 'ct_weapon_p90', 'Total Outliers': 17, 'Percentage': 0.02}\n",
      "{'Column': 't_weapon_p90', 'Total Outliers': 16, 'Percentage': 0.02}\n",
      "{'Column': 't_weapon_r8revolver', 'Total Outliers': 6, 'Percentage': 0.01}\n",
      "{'Column': 't_weapon_sawedoff', 'Total Outliers': 12, 'Percentage': 0.01}\n",
      "{'Column': 'ct_weapon_scar20', 'Total Outliers': 75, 'Percentage': 0.08}\n",
      "{'Column': 't_weapon_scar20', 'Total Outliers': 1, 'Percentage': 0.0}\n",
      "{'Column': 'ct_weapon_sg553', 'Total Outliers': 18126, 'Percentage': 18.51}\n",
      "{'Column': 't_weapon_sg553', 'Total Outliers': 10514, 'Percentage': 10.74}\n",
      "{'Column': 'ct_weapon_ssg08', 'Total Outliers': 5181, 'Percentage': 5.29}\n",
      "{'Column': 't_weapon_ssg08', 'Total Outliers': 1938, 'Percentage': 1.98}\n",
      "{'Column': 'ct_weapon_ump45', 'Total Outliers': 4116, 'Percentage': 4.2}\n",
      "{'Column': 't_weapon_ump45', 'Total Outliers': 3094, 'Percentage': 3.16}\n",
      "{'Column': 'ct_weapon_xm1014', 'Total Outliers': 710, 'Percentage': 0.73}\n",
      "{'Column': 't_weapon_xm1014', 'Total Outliers': 22, 'Percentage': 0.02}\n",
      "{'Column': 'ct_weapon_deagle', 'Total Outliers': 3706, 'Percentage': 3.78}\n",
      "{'Column': 't_weapon_deagle', 'Total Outliers': 23289, 'Percentage': 23.78}\n",
      "{'Column': 'ct_weapon_fiveseven', 'Total Outliers': 5068, 'Percentage': 5.18}\n",
      "{'Column': 't_weapon_fiveseven', 'Total Outliers': 886, 'Percentage': 0.9}\n",
      "{'Column': 't_weapon_usps', 'Total Outliers': 8673, 'Percentage': 8.86}\n",
      "{'Column': 'ct_weapon_p250', 'Total Outliers': 18813, 'Percentage': 19.21}\n",
      "{'Column': 't_weapon_p250', 'Total Outliers': 23268, 'Percentage': 23.76}\n",
      "{'Column': 'ct_weapon_p2000', 'Total Outliers': 15320, 'Percentage': 15.65}\n",
      "{'Column': 't_weapon_p2000', 'Total Outliers': 448, 'Percentage': 0.46}\n",
      "{'Column': 'ct_weapon_tec9', 'Total Outliers': 737, 'Percentage': 0.75}\n",
      "{'Column': 't_weapon_tec9', 'Total Outliers': 2386, 'Percentage': 2.44}\n",
      "{'Column': 'ct_grenade_hegrenade', 'Total Outliers': 13319, 'Percentage': 13.6}\n",
      "{'Column': 't_grenade_hegrenade', 'Total Outliers': 3393, 'Percentage': 3.47}\n",
      "{'Column': 't_grenade_flashbang', 'Total Outliers': 0, 'Percentage': 0.0}\n",
      "{'Column': 'ct_grenade_smokegrenade', 'Total Outliers': 0, 'Percentage': 0.0}\n",
      "{'Column': 't_grenade_smokegrenade', 'Total Outliers': 1, 'Percentage': 0.0}\n",
      "{'Column': 'ct_grenade_incendiarygrenade', 'Total Outliers': 0, 'Percentage': 0.0}\n",
      "{'Column': 't_grenade_incendiarygrenade', 'Total Outliers': 1908, 'Percentage': 1.95}\n",
      "{'Column': 'ct_grenade_molotovgrenade', 'Total Outliers': 4388, 'Percentage': 4.48}\n",
      "{'Column': 't_grenade_molotovgrenade', 'Total Outliers': 0, 'Percentage': 0.0}\n",
      "{'Column': 'ct_grenade_decoygrenade', 'Total Outliers': 2599, 'Percentage': 2.65}\n",
      "{'Column': 't_grenade_decoygrenade', 'Total Outliers': 2442, 'Percentage': 2.49}\n"
     ]
    }
   ],
   "source": [
    "def detect_skew(df, parameter, fold=1.5):\n",
    "\n",
    "    for i in parameter:\n",
    "\n",
    "        IQR = df[parameter].quantile(0.75) - df[parameter].quantile(0.25)\n",
    "        upper = df[parameter].quantile(0.75) + (fold*IQR)\n",
    "        bottom = df[parameter].quantile(0.25) - (fold*IQR)\n",
    "\n",
    "        upper_count = df[\n",
    "            (df[parameter] > upper)\n",
    "        ][parameter].count()\n",
    "\n",
    "        bottom_count = df[\n",
    "            (df[parameter] < bottom)\n",
    "        ][parameter].count()\n",
    "\n",
    "        total_count = upper_count + bottom_count\n",
    "        percentage = (total_count/len(df[parameter])*100).round(2)\n",
    "\n",
    "        a = ({'Column': parameter, 'Total Outliers': total_count,\n",
    "             'Percentage': percentage})\n",
    "    return print(a)\n",
    "\n",
    "for i in skew_dist:\n",
    "    detect_skew(X_train, parameter=i)"
   ]
  },
  {
   "cell_type": "markdown",
   "metadata": {},
   "source": [
    "Statment:\n",
    "\n",
    "Pada tahap ini dapat dilihat bahwa nilai persenan outliers dari beberapa tiap kolomnya sangat besar, rata-rata diatas 5%, sehingga selanjutnya akan dilakukan proses Handling Outlier dengan menggunakan metode capping (Winsorizer).\n",
    "\n",
    "Namun dapat dilihat bahwa rata-rata kolom yang mengalami outlier adalah kolom senjata, dimana IQR menghitung seperti kolom **ct_weapon_ak47** yang mengangap kolom tersebut termasuk dalam outlier. `Hal tersebut dikarenakan fraksi Anti-Terorist tidak memiliki senjata AK-47 sebagai senjata utama mereka, melainkan senjata tersebut adalah dropan dari fraksi Teroris yang mati sehingga kolom tersebut mencatat nilai yang tinggi disaat fraksi CT mengambil senjata tersebut`. Oleh karena itu, saya tidak akan melakukan capping pada kolom-kolom senjata yang ada namun tetap akan melakukan capping pada kolom **ct_score** hingga **t_players_alive**."
   ]
  },
  {
   "cell_type": "code",
   "execution_count": 17,
   "metadata": {},
   "outputs": [
    {
     "name": "stdout",
     "output_type": "stream",
     "text": [
      "Left Tail Caps  :  {'ct_score': -7.5, 'ct_health': 122.5, 't_health': 52.5, 'ct_armor': -244.0, 'ct_money': -18650.0, 't_money': -23075.0, 'ct_players_alive': 2.5, 't_players_alive': 2.5}\n",
      "Right Tail Caps :  {'ct_score': 20.5, 'ct_health': 726.5, 't_health': 768.5, 'ct_armor': 924.0, 'ct_money': 34550.0, 't_money': 42725.0, 'ct_players_alive': 6.5, 't_players_alive': 6.5}\n"
     ]
    }
   ],
   "source": [
    "windsoriser = Winsorizer(capping_method='iqr',\n",
    "                          tail='both', \n",
    "                          fold=1.5,\n",
    "                          variables=['ct_score', 'ct_health', 't_health',\n",
    "                                     'ct_armor','ct_money','t_money', \n",
    "                                     'ct_players_alive', 't_players_alive'])\n",
    "windsoriser.fit(X_train)\n",
    "X_train_t = windsoriser.transform(X_train)\n",
    "\n",
    "print('Left Tail Caps  : ', windsoriser.left_tail_caps_)\n",
    "print('Right Tail Caps : ', windsoriser.right_tail_caps_)"
   ]
  },
  {
   "cell_type": "markdown",
   "metadata": {},
   "source": [
    "Statment:\n",
    "\n",
    "Setelah dilakukan Handing Outlier dengan menggunakan metode capping, maka nilai pada kolom yang terdapat data outlier sekarang telah di capping menjadi data maksimum dan minimum tiap kolomnya."
   ]
  },
  {
   "cell_type": "code",
   "execution_count": 18,
   "metadata": {},
   "outputs": [
    {
     "name": "stdout",
     "output_type": "stream",
     "text": [
      "ct_money - Before Capping\n",
      "count    97916.000000\n",
      "mean      9790.533212\n",
      "std      11217.668188\n",
      "min          0.000000\n",
      "25%       1300.000000\n",
      "50%       5500.000000\n",
      "75%      14600.000000\n",
      "max      80000.000000\n",
      "Name: ct_money, dtype: float64\n",
      "\n",
      "ct_money - After Capping\n",
      "count    97916.000000\n",
      "mean      9356.253319\n",
      "std       9765.607965\n",
      "min          0.000000\n",
      "25%       1300.000000\n",
      "50%       5500.000000\n",
      "75%      14600.000000\n",
      "max      34550.000000\n",
      "Name: ct_money, dtype: float64\n"
     ]
    }
   ],
   "source": [
    "print('ct_money - Before Capping')\n",
    "print(X_train.ct_money.describe())\n",
    "print('')\n",
    "print('ct_money - After Capping')\n",
    "print(X_train_t.ct_money.describe())"
   ]
  },
  {
   "cell_type": "markdown",
   "metadata": {},
   "source": [
    "Statment:\n",
    "\n",
    "Hasilnya dpaat dilihat dari Handling Outlier dengan metode capping pada kolom ct_money , dimana nilai max sebelum capping adalah 80000 berubah menjadi 34550 setelah dilakukannya capping."
   ]
  },
  {
   "cell_type": "markdown",
   "metadata": {},
   "source": [
    "## Feature Selection"
   ]
  },
  {
   "cell_type": "code",
   "execution_count": 19,
   "metadata": {},
   "outputs": [
    {
     "data": {
      "text/plain": [
       "0    122342\n",
       "1        45\n",
       "2        18\n",
       "3         4\n",
       "4         1\n",
       "Name: t_weapon_g3sg1, dtype: int64"
      ]
     },
     "execution_count": 19,
     "metadata": {},
     "output_type": "execute_result"
    }
   ],
   "source": [
    "df.t_weapon_g3sg1.value_counts()"
   ]
  },
  {
   "cell_type": "markdown",
   "metadata": {},
   "source": [
    "Statment:\n",
    "\n",
    "Pada tahap Feature Selection ini, saya melakukan beberapa drop kolom senjata yang berdasarkan visualisasi pada EDA sangat jarang dipakai. Untuk rangenya disini saya menset penggunaan senjata < 100, sehingga untuk drop kolomnya dimulai dari kolom t_weapon_g3sg1."
   ]
  },
  {
   "cell_type": "code",
   "execution_count": 20,
   "metadata": {},
   "outputs": [],
   "source": [
    "X_train_t.drop([\"t_weapon_g3sg1\", \"ct_weapon_scar20\", \"t_weapon_xm1014\", \"ct_weapon_p90\", \n",
    "              \"t_weapon_p90\", \"t_weapon_sawedoff\", \"t_weapon_nova\", \"t_weapon_bizon\",\n",
    "              \"t_weapon_r8revolver\", \"t_weapon_mag7\", \"t_weapon_scar20\", \"t_weapon_negev\",\n",
    "              \"ct_weapon_m249\", \"ct_weapon_sawedoff\", \"ct_weapon_r8revolver\", \n",
    "              \"ct_weapon_negev\", \"t_weapon_m249\", \"ct_weapon_g3sg1\", \"ct_weapon_bizon\"],\n",
    "             axis=1, inplace=True)\n",
    "\n",
    "X_test.drop([\"t_weapon_g3sg1\", \"ct_weapon_scar20\", \"t_weapon_xm1014\", \"ct_weapon_p90\", \n",
    "              \"t_weapon_p90\", \"t_weapon_sawedoff\", \"t_weapon_nova\", \"t_weapon_bizon\",\n",
    "              \"t_weapon_r8revolver\", \"t_weapon_mag7\", \"t_weapon_scar20\", \"t_weapon_negev\",\n",
    "              \"ct_weapon_m249\", \"ct_weapon_sawedoff\", \"ct_weapon_r8revolver\", \n",
    "              \"ct_weapon_negev\", \"t_weapon_m249\", \"ct_weapon_g3sg1\", \"ct_weapon_bizon\"],\n",
    "             axis=1, inplace=True)"
   ]
  },
  {
   "cell_type": "code",
   "execution_count": 21,
   "metadata": {},
   "outputs": [
    {
     "data": {
      "text/plain": [
       "Index(['time_left', 'ct_score', 't_score', 'map', 'bomb_planted', 'ct_health',\n",
       "       't_health', 'ct_armor', 't_armor', 'ct_money', 't_money', 'ct_helmets',\n",
       "       't_helmets', 'ct_defuse_kits', 'ct_players_alive', 't_players_alive',\n",
       "       'ct_weapon_ak47', 't_weapon_ak47', 'ct_weapon_aug', 't_weapon_aug',\n",
       "       'ct_weapon_awp', 't_weapon_awp', 'ct_weapon_cz75auto',\n",
       "       't_weapon_cz75auto', 'ct_weapon_elite', 't_weapon_elite',\n",
       "       'ct_weapon_famas', 't_weapon_famas', 'ct_weapon_galilar',\n",
       "       't_weapon_galilar', 'ct_weapon_glock', 't_weapon_glock',\n",
       "       'ct_weapon_m4a1s', 't_weapon_m4a1s', 'ct_weapon_m4a4', 't_weapon_m4a4',\n",
       "       'ct_weapon_mac10', 't_weapon_mac10', 'ct_weapon_mag7',\n",
       "       'ct_weapon_mp5sd', 't_weapon_mp5sd', 'ct_weapon_mp7', 't_weapon_mp7',\n",
       "       'ct_weapon_mp9', 't_weapon_mp9', 'ct_weapon_nova', 'ct_weapon_sg553',\n",
       "       't_weapon_sg553', 'ct_weapon_ssg08', 't_weapon_ssg08',\n",
       "       'ct_weapon_ump45', 't_weapon_ump45', 'ct_weapon_xm1014',\n",
       "       'ct_weapon_deagle', 't_weapon_deagle', 'ct_weapon_fiveseven',\n",
       "       't_weapon_fiveseven', 'ct_weapon_usps', 't_weapon_usps',\n",
       "       'ct_weapon_p250', 't_weapon_p250', 'ct_weapon_p2000', 't_weapon_p2000',\n",
       "       'ct_weapon_tec9', 't_weapon_tec9', 'ct_grenade_hegrenade',\n",
       "       't_grenade_hegrenade', 'ct_grenade_flashbang', 't_grenade_flashbang',\n",
       "       'ct_grenade_smokegrenade', 't_grenade_smokegrenade',\n",
       "       'ct_grenade_incendiarygrenade', 't_grenade_incendiarygrenade',\n",
       "       'ct_grenade_molotovgrenade', 't_grenade_molotovgrenade',\n",
       "       'ct_grenade_decoygrenade', 't_grenade_decoygrenade'],\n",
       "      dtype='object')"
      ]
     },
     "execution_count": 21,
     "metadata": {},
     "output_type": "execute_result"
    }
   ],
   "source": [
    "X_test.columns"
   ]
  },
  {
   "cell_type": "markdown",
   "metadata": {},
   "source": [
    "Statment:\n",
    "\n",
    "Melakukan drop yang telah ditentukan pada data X_train dan X_test."
   ]
  },
  {
   "cell_type": "markdown",
   "metadata": {},
   "source": [
    "## Split Numerical column dan Categorical column"
   ]
  },
  {
   "cell_type": "code",
   "execution_count": 22,
   "metadata": {},
   "outputs": [
    {
     "name": "stdout",
     "output_type": "stream",
     "text": [
      "Numerical Columns : ['time_left', 'ct_score', 't_score', 'bomb_planted', 'ct_health', 't_health', 'ct_armor', 't_armor', 'ct_money', 't_money', 'ct_helmets', 't_helmets', 'ct_defuse_kits', 'ct_players_alive', 't_players_alive', 'ct_weapon_ak47', 't_weapon_ak47', 'ct_weapon_aug', 't_weapon_aug', 'ct_weapon_awp', 't_weapon_awp', 'ct_weapon_cz75auto', 't_weapon_cz75auto', 'ct_weapon_elite', 't_weapon_elite', 'ct_weapon_famas', 't_weapon_famas', 'ct_weapon_galilar', 't_weapon_galilar', 'ct_weapon_glock', 't_weapon_glock', 'ct_weapon_m4a1s', 't_weapon_m4a1s', 'ct_weapon_m4a4', 't_weapon_m4a4', 'ct_weapon_mac10', 't_weapon_mac10', 'ct_weapon_mag7', 'ct_weapon_mp5sd', 't_weapon_mp5sd', 'ct_weapon_mp7', 't_weapon_mp7', 'ct_weapon_mp9', 't_weapon_mp9', 'ct_weapon_nova', 'ct_weapon_sg553', 't_weapon_sg553', 'ct_weapon_ssg08', 't_weapon_ssg08', 'ct_weapon_ump45', 't_weapon_ump45', 'ct_weapon_xm1014', 'ct_weapon_deagle', 't_weapon_deagle', 'ct_weapon_fiveseven', 't_weapon_fiveseven', 'ct_weapon_usps', 't_weapon_usps', 'ct_weapon_p250', 't_weapon_p250', 'ct_weapon_p2000', 't_weapon_p2000', 'ct_weapon_tec9', 't_weapon_tec9', 'ct_grenade_hegrenade', 't_grenade_hegrenade', 'ct_grenade_flashbang', 't_grenade_flashbang', 'ct_grenade_smokegrenade', 't_grenade_smokegrenade', 'ct_grenade_incendiarygrenade', 't_grenade_incendiarygrenade', 'ct_grenade_molotovgrenade', 't_grenade_molotovgrenade', 'ct_grenade_decoygrenade', 't_grenade_decoygrenade']\n",
      "Categorical Columns : ['map']\n"
     ]
    }
   ],
   "source": [
    "num_coulmn = X_train_t.select_dtypes(include=np.number).columns.tolist()\n",
    "cat_coulmn = X_train_t.select_dtypes(include=[\"object\"]).columns.tolist()\n",
    "\n",
    "print(\"Numerical Columns :\",num_coulmn)\n",
    "print(\"Categorical Columns :\",cat_coulmn)\n",
    "\n",
    "final_features = num_coulmn + cat_coulmn"
   ]
  },
  {
   "cell_type": "markdown",
   "metadata": {},
   "source": [
    "Statment:\n",
    "\n",
    "Melakukan split berdasarkan type columnya terhadap data pada table X_train."
   ]
  },
  {
   "cell_type": "markdown",
   "metadata": {},
   "source": [
    "## Pipeline Scalling"
   ]
  },
  {
   "cell_type": "code",
   "execution_count": 23,
   "metadata": {},
   "outputs": [],
   "source": [
    "pipe_FE = ColumnTransformer([\n",
    "    ('Minmaxscaler', MinMaxScaler(), num_coulmn),\n",
    "    (\"OneHotEncoder\", OneHotEncoder(), cat_coulmn)\n",
    "])  "
   ]
  },
  {
   "cell_type": "markdown",
   "metadata": {},
   "source": [
    "Statment:\n",
    "\n",
    "Inisiasi scalling dengan menggunakan pipeline, dimana untuk kolom numerik menggunakan MinMax Scalling dikarenakan data pada numerik kebanyakan datanya skew dan untuk kategorical menggunakan OneHot Scaller dikarenakan data pada kolom kategorical hanya berisi True dan False serta nama map (Tidak berurutan)."
   ]
  },
  {
   "cell_type": "markdown",
   "metadata": {},
   "source": [
    "---\n",
    "# Model Definition\n",
    "\n",
    "Pada tahap ini akan dilakukan pendefisian model yang akan dipakai, Yaitu :\n",
    "- Logistic Regression\n",
    "- KNN\n",
    "- SVM\n",
    "- Random Forest Classifier "
   ]
  },
  {
   "cell_type": "markdown",
   "metadata": {},
   "source": [
    "## Logistic Regression"
   ]
  },
  {
   "cell_type": "code",
   "execution_count": 24,
   "metadata": {},
   "outputs": [],
   "source": [
    "LR = LogisticRegression(random_state=42)\n",
    "\n",
    "pipe_LR = Pipeline([\n",
    "    ('preprocessing', pipe_FE),\n",
    "    ('LR', LR)\n",
    "])\n",
    "\n",
    "params_LR = {\n",
    "    'LR__solvers': ['newton-cg', 'lbfgs', 'liblinear'],\n",
    "    'LR__penalty': ['l2', 'l1'],\n",
    "    'LR__c_values': [100, 10, 1.0, 0.1, 0.01]\n",
    "}"
   ]
  },
  {
   "cell_type": "markdown",
   "metadata": {},
   "source": [
    "Statment:\n",
    "\n",
    "Mendefinisikan model Logistic Regression dengan menggunakan pipeline dan menset hyperparameter tuning untuk mendapatkan hasil yang lebih optimal."
   ]
  },
  {
   "cell_type": "markdown",
   "metadata": {},
   "source": [
    "## K-Nearest Neighbor"
   ]
  },
  {
   "cell_type": "code",
   "execution_count": 25,
   "metadata": {},
   "outputs": [],
   "source": [
    "KNN = KNeighborsClassifier()\n",
    "\n",
    "pipe_KNN = Pipeline([\n",
    "    ('preprocessing', pipe_FE),\n",
    "    ('KNN', KNN)\n",
    "])\n",
    "\n",
    "params_KNN = {\n",
    "    'RF__weights': ['uniform', 'distance'],\n",
    "    'RF__metric': ['euclidean', 'manhattan']\n",
    "}"
   ]
  },
  {
   "cell_type": "markdown",
   "metadata": {},
   "source": [
    "Statment:\n",
    "\n",
    "Mendefinisikan model K-Nearest Neighbor dengan menggunakan pipeline dan menset hyperparameter tuning untuk mendapatkan hasil yang lebih optimal."
   ]
  },
  {
   "cell_type": "markdown",
   "metadata": {},
   "source": [
    "## SVM Classifier"
   ]
  },
  {
   "cell_type": "code",
   "execution_count": 26,
   "metadata": {},
   "outputs": [],
   "source": [
    "SVM = SVC(random_state=42)\n",
    "\n",
    "pipe_SVM = Pipeline([\n",
    "    ('preprocessing', pipe_FE),\n",
    "    ('SVM', SVM)\n",
    "])\n",
    "\n",
    "params_SVM = {\n",
    "    'SVM__kernel': ['rbf', 'sigmoid'],\n",
    "    'SVM__C': [50, 10, 1.0],\n",
    "    'SVM__gamma': ['scale', 'auto']\n",
    "}"
   ]
  },
  {
   "cell_type": "markdown",
   "metadata": {},
   "source": [
    "Statment:\n",
    "\n",
    "Mendefinisikan model SVM Classifier dengan menggunakan pipeline dan menset hyperparameter tuning untuk mendapatkan hasil yang lebih optimal."
   ]
  },
  {
   "cell_type": "markdown",
   "metadata": {},
   "source": [
    "## Random Forest Classifier"
   ]
  },
  {
   "cell_type": "code",
   "execution_count": 27,
   "metadata": {},
   "outputs": [],
   "source": [
    "RF = RandomForestClassifier(random_state=42)\n",
    "\n",
    "pipe_RF = Pipeline([\n",
    "    ('preprocessing', pipe_FE),\n",
    "    ('RF', RF)\n",
    "])\n",
    "\n",
    "params_RF = {\n",
    "    'RF__criterion': ['gini', 'entropy'],\n",
    "    'RF__min_samples_split': [2, 16, 32, 64],\n",
    "    'RF__max_features': ['sqrt', 'log2']\n",
    "}"
   ]
  },
  {
   "cell_type": "markdown",
   "metadata": {},
   "source": [
    "Statment:\n",
    "\n",
    "Mendefinisikan model Random Forest Classifier dengan menggunakan pipeline dan menset hyperparameter tuning untuk mendapatkan hasil yang lebih optimal."
   ]
  },
  {
   "cell_type": "markdown",
   "metadata": {},
   "source": [
    "---\n",
    "# Model Training"
   ]
  },
  {
   "cell_type": "code",
   "execution_count": 28,
   "metadata": {},
   "outputs": [],
   "source": [
    "# prepare models and put it into list\n",
    "models = []\n",
    "models.append(('Logistic Regression', pipe_LR))\n",
    "models.append(('SVM Classifier', pipe_SVM))\n",
    "models.append(('Random Forest', pipe_RF))\n",
    "models.append(('KNN', pipe_KNN))\n",
    "\n",
    "\n",
    "# Create empty list to stores result\n",
    "names = []\n",
    "results = []\n",
    "mean_score = []\n",
    "stdev_score = []\n",
    "\n",
    "# Cross-validate each model\n",
    "for name, model in models:\n",
    "    model.fit(X_train_t,y_train)\n",
    "    scores = cross_val_score(model, X_train_t, y_train, scoring='f1_weighted', cv=3, n_jobs=-1)\n",
    "\n",
    "    names.append(name)\n",
    "    results.append(scores)\n",
    "    mean_score.append(round(np.mean(scores),4))\n",
    "    stdev_score.append(round(np.std(scores),4))\n",
    "\n",
    "cv_result = pd.DataFrame({'models':names, 'mean_score':mean_score, 'stdev_score':stdev_score})"
   ]
  },
  {
   "cell_type": "markdown",
   "metadata": {},
   "source": [
    "Statment:\n",
    "\n",
    "Melakukan Training pada setiap model yang telah didefinisikan sebelumnya. Kemudian melakukan validasi silang pada tiap model dengan data training yang telah di siapkan sebelumnya dan kemudian hasil dari validasi silang tersebut disimpan pada sebuah table. Namun untuk tahap cross-validation ini saya membatas CV atau splitting strategy dari metode tersebut sebanyak 3. Hal ini dikarenakan waktu pemrosesan yang memakan waktu cukup lama dimana pada objective kali ini menggunakan dataset berjumlah cukup banyak."
   ]
  },
  {
   "cell_type": "markdown",
   "metadata": {},
   "source": [
    "---\n",
    "# Model Evaluation"
   ]
  },
  {
   "cell_type": "code",
   "execution_count": 29,
   "metadata": {},
   "outputs": [
    {
     "data": {
      "text/html": [
       "<div>\n",
       "<style scoped>\n",
       "    .dataframe tbody tr th:only-of-type {\n",
       "        vertical-align: middle;\n",
       "    }\n",
       "\n",
       "    .dataframe tbody tr th {\n",
       "        vertical-align: top;\n",
       "    }\n",
       "\n",
       "    .dataframe thead th {\n",
       "        text-align: right;\n",
       "    }\n",
       "</style>\n",
       "<table border=\"1\" class=\"dataframe\">\n",
       "  <thead>\n",
       "    <tr style=\"text-align: right;\">\n",
       "      <th></th>\n",
       "      <th>models</th>\n",
       "      <th>mean_score</th>\n",
       "      <th>stdev_score</th>\n",
       "    </tr>\n",
       "  </thead>\n",
       "  <tbody>\n",
       "    <tr>\n",
       "      <th>2</th>\n",
       "      <td>Random Forest</td>\n",
       "      <td>0.8560</td>\n",
       "      <td>0.0011</td>\n",
       "    </tr>\n",
       "    <tr>\n",
       "      <th>3</th>\n",
       "      <td>KNN</td>\n",
       "      <td>0.8016</td>\n",
       "      <td>0.0007</td>\n",
       "    </tr>\n",
       "    <tr>\n",
       "      <th>1</th>\n",
       "      <td>SVM Classifier</td>\n",
       "      <td>0.7666</td>\n",
       "      <td>0.0007</td>\n",
       "    </tr>\n",
       "    <tr>\n",
       "      <th>0</th>\n",
       "      <td>Logistic Regression</td>\n",
       "      <td>0.7487</td>\n",
       "      <td>0.0014</td>\n",
       "    </tr>\n",
       "  </tbody>\n",
       "</table>\n",
       "</div>"
      ],
      "text/plain": [
       "                models  mean_score  stdev_score\n",
       "2        Random Forest      0.8560       0.0011\n",
       "3                  KNN      0.8016       0.0007\n",
       "1       SVM Classifier      0.7666       0.0007\n",
       "0  Logistic Regression      0.7487       0.0014"
      ]
     },
     "execution_count": 29,
     "metadata": {},
     "output_type": "execute_result"
    }
   ],
   "source": [
    "cv_result.sort_values(by='mean_score', ascending=False)"
   ]
  },
  {
   "cell_type": "markdown",
   "metadata": {},
   "source": [
    "Statment:\n",
    "\n",
    "Setelah dilakukan Training terhadap model yang digunakan, maka didapatkan nilai dari evaluasinya. Dimana model Random Forest mendapatka nilai mean score terbaik yaitu sebesar 0.85 dengan nilai standar deviasi atau persebaran datanya sebesar 0.0012. Sedangkan untuk model di posisi ke KNN memilki nilai mean score yang tidak terlalu baik apa bila dibandingkan dengan Random Forest, Namun uniknya model KNN dan SVM memiliki nilai standar deviasi yang kecil yaitu hanya 0.0004. \n",
    "\n",
    "Selanjutnya model Random Forest tersebut akan dilakukan Hyperparameter Tuning terhadap data yang digunakan dan akan diimplementasikan terhadap data Inference."
   ]
  },
  {
   "cell_type": "markdown",
   "metadata": {},
   "source": [
    "## Hyperparameter Tuning Random Forest"
   ]
  },
  {
   "cell_type": "code",
   "execution_count": 30,
   "metadata": {},
   "outputs": [],
   "source": [
    "grid_RF_rand = RandomizedSearchCV(\n",
    "    pipe_RF, params_RF, cv=3, scoring='f1_weighted', n_jobs=-1, random_state=10\n",
    ").fit(X_train_t, y_train)\n",
    "\n",
    "best_params_RF_rand = grid_RF_rand.best_params_\n",
    "best_pipe_RF_rand = grid_RF_rand.best_estimator_\n",
    "df_result_RF_rand = pd.DataFrame.from_dict(grid_RF_rand.cv_results_, orient='columns')"
   ]
  },
  {
   "cell_type": "markdown",
   "metadata": {},
   "source": [
    "Statment:\n",
    "\n",
    "Pada Hyperparameter Tuning ini menggunakan metode Randomized Search CV sebagai pencari parameter terbaik untuk model terhadap data yang digunakan. Sekali lagi disini untuk tahap Hyperparameter Tuning ini saya membatas CV atau splitting strategy dari metode tersebut sebanyak 3. Hal ini dikarenakan waktu pemrosesan yang memakan waktu cukup lama dimana pada objective kali ini menggunakan dataset berjumlah cukup banyak."
   ]
  },
  {
   "cell_type": "code",
   "execution_count": 31,
   "metadata": {},
   "outputs": [
    {
     "data": {
      "text/plain": [
       "{'RF__min_samples_split': 2,\n",
       " 'RF__max_features': 'log2',\n",
       " 'RF__criterion': 'entropy'}"
      ]
     },
     "execution_count": 31,
     "metadata": {},
     "output_type": "execute_result"
    }
   ],
   "source": [
    "best_params_RF_rand"
   ]
  },
  {
   "cell_type": "markdown",
   "metadata": {},
   "source": [
    "Statment:\n",
    "\n",
    "Hyperparameter terbaik untuk model Random Forest yaitu:\n",
    "- min_samples_split: 2\n",
    "- max_features: log2\n",
    "- criterion: entropy"
   ]
  },
  {
   "cell_type": "code",
   "execution_count": 32,
   "metadata": {},
   "outputs": [
    {
     "name": "stdout",
     "output_type": "stream",
     "text": [
      "========== Hasil classification Report terhadap data Testing ==========\n",
      "              precision    recall  f1-score   support\n",
      "\n",
      "          CT       0.86      0.89      0.88     12000\n",
      "           T       0.89      0.87      0.88     12479\n",
      "\n",
      "    accuracy                           0.88     24479\n",
      "   macro avg       0.88      0.88      0.88     24479\n",
      "weighted avg       0.88      0.88      0.88     24479\n",
      "\n"
     ]
    }
   ],
   "source": [
    "print(\"========== Hasil classification Report terhadap data Testing ==========\")\n",
    "print(classification_report(y_test, best_pipe_RF_rand.predict(X_test)))"
   ]
  },
  {
   "cell_type": "markdown",
   "metadata": {},
   "source": [
    "Statment:\n",
    "\n",
    "Berdasarkan Hasil classification Report terhadap data testing diatas dapat diketahui bahwa model yang telah dibuat memiliki akurasi sebesar 88% dimana akurasi tersebut cukup baik dalam melakukan prediksi terhadap data testing. Selain itu model juga memiliki nilai f1_score yang cukup baik dimana dari kedua kelas CT (Fraksi Anti Teroris) maupun T (Fraksi Teroris) masing-masing mendapatkan nilai sebesar 88%. Hal ini menandakan bahwa model telah berjalan dan melakukan prediksi yang cukup baik."
   ]
  },
  {
   "cell_type": "code",
   "execution_count": 33,
   "metadata": {},
   "outputs": [
    {
     "name": "stdout",
     "output_type": "stream",
     "text": [
      "==================== Train Results (Random Forest Classifier) ====================\n",
      "0.9998738587206653\n",
      "==================== Test Results (Random Forest Classifier) ====================\n",
      "0.9490495565884018\n"
     ]
    }
   ],
   "source": [
    "print('==================== Train Results (Random Forest Classifier) ====================')\n",
    "print(roc_auc_score(y_train, best_pipe_RF_rand.predict_proba(X_train_t)[:, 1]))\n",
    "\n",
    "print('==================== Test Results (Random Forest Classifier) ====================')\n",
    "print(roc_auc_score(y_test, best_pipe_RF_rand.predict_proba(X_test)[:, 1]))"
   ]
  },
  {
   "cell_type": "markdown",
   "metadata": {},
   "source": [
    "Statment:\n",
    "    \n",
    "Pada nilai ROC-AUC pada model Random Forest didapati bahwa nilai ROC-AUC pada data train sebesar 0.99 sedangkan untuk data test sebesar 0.94. Dimana dapat dikatakan bahwa model Random Forest tersebut adalah **Good Fit**, Sehingga dapat dikatakah bahwa model yang telah dibuat dapat berjalan dengan baik dalam membuat prediksi di kedua data testing maupun data training."
   ]
  },
  {
   "cell_type": "markdown",
   "metadata": {},
   "source": [
    "---\n",
    "# Model Inference "
   ]
  },
  {
   "cell_type": "code",
   "execution_count": 34,
   "metadata": {},
   "outputs": [
    {
     "data": {
      "text/html": [
       "<div>\n",
       "<style scoped>\n",
       "    .dataframe tbody tr th:only-of-type {\n",
       "        vertical-align: middle;\n",
       "    }\n",
       "\n",
       "    .dataframe tbody tr th {\n",
       "        vertical-align: top;\n",
       "    }\n",
       "\n",
       "    .dataframe thead th {\n",
       "        text-align: right;\n",
       "    }\n",
       "</style>\n",
       "<table border=\"1\" class=\"dataframe\">\n",
       "  <thead>\n",
       "    <tr style=\"text-align: right;\">\n",
       "      <th></th>\n",
       "      <th>time_left</th>\n",
       "      <th>ct_score</th>\n",
       "      <th>t_score</th>\n",
       "      <th>map</th>\n",
       "      <th>bomb_planted</th>\n",
       "      <th>ct_health</th>\n",
       "      <th>t_health</th>\n",
       "      <th>ct_armor</th>\n",
       "      <th>t_armor</th>\n",
       "      <th>ct_money</th>\n",
       "      <th>...</th>\n",
       "      <th>t_grenade_flashbang</th>\n",
       "      <th>ct_grenade_smokegrenade</th>\n",
       "      <th>t_grenade_smokegrenade</th>\n",
       "      <th>ct_grenade_incendiarygrenade</th>\n",
       "      <th>t_grenade_incendiarygrenade</th>\n",
       "      <th>ct_grenade_molotovgrenade</th>\n",
       "      <th>t_grenade_molotovgrenade</th>\n",
       "      <th>ct_grenade_decoygrenade</th>\n",
       "      <th>t_grenade_decoygrenade</th>\n",
       "      <th>round_winner</th>\n",
       "    </tr>\n",
       "  </thead>\n",
       "  <tbody>\n",
       "    <tr>\n",
       "      <th>0</th>\n",
       "      <td>175.00</td>\n",
       "      <td>11</td>\n",
       "      <td>4</td>\n",
       "      <td>vertigo</td>\n",
       "      <td>0.0</td>\n",
       "      <td>500</td>\n",
       "      <td>500</td>\n",
       "      <td>400</td>\n",
       "      <td>300</td>\n",
       "      <td>700</td>\n",
       "      <td>...</td>\n",
       "      <td>1</td>\n",
       "      <td>0</td>\n",
       "      <td>1</td>\n",
       "      <td>0</td>\n",
       "      <td>0</td>\n",
       "      <td>0</td>\n",
       "      <td>0</td>\n",
       "      <td>0</td>\n",
       "      <td>1</td>\n",
       "      <td>CT</td>\n",
       "    </tr>\n",
       "    <tr>\n",
       "      <th>1</th>\n",
       "      <td>94.95</td>\n",
       "      <td>8</td>\n",
       "      <td>4</td>\n",
       "      <td>dust2</td>\n",
       "      <td>0.0</td>\n",
       "      <td>400</td>\n",
       "      <td>450</td>\n",
       "      <td>400</td>\n",
       "      <td>477</td>\n",
       "      <td>10300</td>\n",
       "      <td>...</td>\n",
       "      <td>2</td>\n",
       "      <td>2</td>\n",
       "      <td>2</td>\n",
       "      <td>3</td>\n",
       "      <td>0</td>\n",
       "      <td>0</td>\n",
       "      <td>0</td>\n",
       "      <td>0</td>\n",
       "      <td>0</td>\n",
       "      <td>CT</td>\n",
       "    </tr>\n",
       "    <tr>\n",
       "      <th>2</th>\n",
       "      <td>14.93</td>\n",
       "      <td>14</td>\n",
       "      <td>10</td>\n",
       "      <td>dust2</td>\n",
       "      <td>0.0</td>\n",
       "      <td>366</td>\n",
       "      <td>100</td>\n",
       "      <td>395</td>\n",
       "      <td>98</td>\n",
       "      <td>2350</td>\n",
       "      <td>...</td>\n",
       "      <td>0</td>\n",
       "      <td>1</td>\n",
       "      <td>0</td>\n",
       "      <td>0</td>\n",
       "      <td>0</td>\n",
       "      <td>0</td>\n",
       "      <td>1</td>\n",
       "      <td>0</td>\n",
       "      <td>0</td>\n",
       "      <td>CT</td>\n",
       "    </tr>\n",
       "  </tbody>\n",
       "</table>\n",
       "<p>3 rows × 97 columns</p>\n",
       "</div>"
      ],
      "text/plain": [
       "   time_left  ct_score  t_score      map  bomb_planted  ct_health  t_health  \\\n",
       "0     175.00        11        4  vertigo           0.0        500       500   \n",
       "1      94.95         8        4    dust2           0.0        400       450   \n",
       "2      14.93        14       10    dust2           0.0        366       100   \n",
       "\n",
       "   ct_armor  t_armor  ct_money  ...  t_grenade_flashbang  \\\n",
       "0       400      300       700  ...                    1   \n",
       "1       400      477     10300  ...                    2   \n",
       "2       395       98      2350  ...                    0   \n",
       "\n",
       "   ct_grenade_smokegrenade  t_grenade_smokegrenade  \\\n",
       "0                        0                       1   \n",
       "1                        2                       2   \n",
       "2                        1                       0   \n",
       "\n",
       "   ct_grenade_incendiarygrenade  t_grenade_incendiarygrenade  \\\n",
       "0                             0                            0   \n",
       "1                             3                            0   \n",
       "2                             0                            0   \n",
       "\n",
       "   ct_grenade_molotovgrenade  t_grenade_molotovgrenade  \\\n",
       "0                          0                         0   \n",
       "1                          0                         0   \n",
       "2                          0                         1   \n",
       "\n",
       "   ct_grenade_decoygrenade  t_grenade_decoygrenade  round_winner  \n",
       "0                        0                       1            CT  \n",
       "1                        0                       0            CT  \n",
       "2                        0                       0            CT  \n",
       "\n",
       "[3 rows x 97 columns]"
      ]
     },
     "execution_count": 34,
     "metadata": {},
     "output_type": "execute_result"
    }
   ],
   "source": [
    "data_inf.head(3)"
   ]
  },
  {
   "cell_type": "markdown",
   "metadata": {},
   "source": [
    "Statment:\n",
    "\n",
    "Melihat data Inference sebelum masuk ke model untuk di prediksi."
   ]
  },
  {
   "cell_type": "code",
   "execution_count": 35,
   "metadata": {},
   "outputs": [],
   "source": [
    "X_inf = data_inf.drop(['round_winner'], axis=1)\n",
    "X_inf = X_inf[final_features]\n",
    "\n",
    "y_inf = data_inf['round_winner']"
   ]
  },
  {
   "cell_type": "markdown",
   "metadata": {},
   "source": [
    "Statment:\n",
    "\n",
    "Melakukan drop data target pada data Inference, yang nanti data target tersebut akan digunakan sebagai prediksi bandingan terhadap model.\n"
   ]
  },
  {
   "cell_type": "code",
   "execution_count": 36,
   "metadata": {},
   "outputs": [
    {
     "data": {
      "text/plain": [
       "array(['CT', 'T', 'CT', 'T', 'T', 'T', 'T', 'T', 'T', 'CT', 'CT', 'CT',\n",
       "       'T', 'CT', 'CT'], dtype=object)"
      ]
     },
     "execution_count": 36,
     "metadata": {},
     "output_type": "execute_result"
    }
   ],
   "source": [
    "y_inf_pred_RF = best_pipe_RF_rand.predict(X_inf)\n",
    "y_inf_pred_RF"
   ]
  },
  {
   "cell_type": "markdown",
   "metadata": {},
   "source": [
    "Statment:\n",
    "\n",
    "Melakukan prediksi pada model RF dengan menggunakan data Inference, model yang dipakai adalah model dengan Hyperparameter terbaik yang telah dituning sebelumnya."
   ]
  },
  {
   "cell_type": "code",
   "execution_count": 37,
   "metadata": {},
   "outputs": [
    {
     "data": {
      "text/html": [
       "<div>\n",
       "<style scoped>\n",
       "    .dataframe tbody tr th:only-of-type {\n",
       "        vertical-align: middle;\n",
       "    }\n",
       "\n",
       "    .dataframe tbody tr th {\n",
       "        vertical-align: top;\n",
       "    }\n",
       "\n",
       "    .dataframe thead th {\n",
       "        text-align: right;\n",
       "    }\n",
       "</style>\n",
       "<table border=\"1\" class=\"dataframe\">\n",
       "  <thead>\n",
       "    <tr style=\"text-align: right;\">\n",
       "      <th></th>\n",
       "      <th>RF Prediction</th>\n",
       "    </tr>\n",
       "  </thead>\n",
       "  <tbody>\n",
       "    <tr>\n",
       "      <th>0</th>\n",
       "      <td>CT</td>\n",
       "    </tr>\n",
       "    <tr>\n",
       "      <th>1</th>\n",
       "      <td>T</td>\n",
       "    </tr>\n",
       "    <tr>\n",
       "      <th>2</th>\n",
       "      <td>CT</td>\n",
       "    </tr>\n",
       "    <tr>\n",
       "      <th>3</th>\n",
       "      <td>T</td>\n",
       "    </tr>\n",
       "    <tr>\n",
       "      <th>4</th>\n",
       "      <td>T</td>\n",
       "    </tr>\n",
       "    <tr>\n",
       "      <th>5</th>\n",
       "      <td>T</td>\n",
       "    </tr>\n",
       "    <tr>\n",
       "      <th>6</th>\n",
       "      <td>T</td>\n",
       "    </tr>\n",
       "    <tr>\n",
       "      <th>7</th>\n",
       "      <td>T</td>\n",
       "    </tr>\n",
       "    <tr>\n",
       "      <th>8</th>\n",
       "      <td>T</td>\n",
       "    </tr>\n",
       "    <tr>\n",
       "      <th>9</th>\n",
       "      <td>CT</td>\n",
       "    </tr>\n",
       "    <tr>\n",
       "      <th>10</th>\n",
       "      <td>CT</td>\n",
       "    </tr>\n",
       "    <tr>\n",
       "      <th>11</th>\n",
       "      <td>CT</td>\n",
       "    </tr>\n",
       "    <tr>\n",
       "      <th>12</th>\n",
       "      <td>T</td>\n",
       "    </tr>\n",
       "    <tr>\n",
       "      <th>13</th>\n",
       "      <td>CT</td>\n",
       "    </tr>\n",
       "    <tr>\n",
       "      <th>14</th>\n",
       "      <td>CT</td>\n",
       "    </tr>\n",
       "  </tbody>\n",
       "</table>\n",
       "</div>"
      ],
      "text/plain": [
       "   RF Prediction\n",
       "0             CT\n",
       "1              T\n",
       "2             CT\n",
       "3              T\n",
       "4              T\n",
       "5              T\n",
       "6              T\n",
       "7              T\n",
       "8              T\n",
       "9             CT\n",
       "10            CT\n",
       "11            CT\n",
       "12             T\n",
       "13            CT\n",
       "14            CT"
      ]
     },
     "execution_count": 37,
     "metadata": {},
     "output_type": "execute_result"
    }
   ],
   "source": [
    "y_pred_inf_df_RF = pd.DataFrame(y_inf_pred_RF ,columns=[\"RF Prediction\"])\n",
    "y_pred_inf_df_RF"
   ]
  },
  {
   "cell_type": "markdown",
   "metadata": {},
   "source": [
    "Statment: \n",
    "\n",
    "Hasil prediksi data Inference dengan model RF, Kemudian merubahnya menjadi bentuk dataframe."
   ]
  },
  {
   "cell_type": "code",
   "execution_count": 38,
   "metadata": {},
   "outputs": [
    {
     "data": {
      "text/html": [
       "<div>\n",
       "<style scoped>\n",
       "    .dataframe tbody tr th:only-of-type {\n",
       "        vertical-align: middle;\n",
       "    }\n",
       "\n",
       "    .dataframe tbody tr th {\n",
       "        vertical-align: top;\n",
       "    }\n",
       "\n",
       "    .dataframe thead th {\n",
       "        text-align: right;\n",
       "    }\n",
       "</style>\n",
       "<table border=\"1\" class=\"dataframe\">\n",
       "  <thead>\n",
       "    <tr style=\"text-align: right;\">\n",
       "      <th></th>\n",
       "      <th>round_winner</th>\n",
       "      <th>RF Prediction</th>\n",
       "    </tr>\n",
       "  </thead>\n",
       "  <tbody>\n",
       "    <tr>\n",
       "      <th>0</th>\n",
       "      <td>CT</td>\n",
       "      <td>CT</td>\n",
       "    </tr>\n",
       "    <tr>\n",
       "      <th>1</th>\n",
       "      <td>CT</td>\n",
       "      <td>T</td>\n",
       "    </tr>\n",
       "    <tr>\n",
       "      <th>2</th>\n",
       "      <td>CT</td>\n",
       "      <td>CT</td>\n",
       "    </tr>\n",
       "    <tr>\n",
       "      <th>3</th>\n",
       "      <td>T</td>\n",
       "      <td>T</td>\n",
       "    </tr>\n",
       "    <tr>\n",
       "      <th>4</th>\n",
       "      <td>T</td>\n",
       "      <td>T</td>\n",
       "    </tr>\n",
       "    <tr>\n",
       "      <th>5</th>\n",
       "      <td>T</td>\n",
       "      <td>T</td>\n",
       "    </tr>\n",
       "    <tr>\n",
       "      <th>6</th>\n",
       "      <td>CT</td>\n",
       "      <td>T</td>\n",
       "    </tr>\n",
       "    <tr>\n",
       "      <th>7</th>\n",
       "      <td>T</td>\n",
       "      <td>T</td>\n",
       "    </tr>\n",
       "    <tr>\n",
       "      <th>8</th>\n",
       "      <td>T</td>\n",
       "      <td>T</td>\n",
       "    </tr>\n",
       "    <tr>\n",
       "      <th>9</th>\n",
       "      <td>CT</td>\n",
       "      <td>CT</td>\n",
       "    </tr>\n",
       "    <tr>\n",
       "      <th>10</th>\n",
       "      <td>CT</td>\n",
       "      <td>CT</td>\n",
       "    </tr>\n",
       "    <tr>\n",
       "      <th>11</th>\n",
       "      <td>T</td>\n",
       "      <td>CT</td>\n",
       "    </tr>\n",
       "    <tr>\n",
       "      <th>12</th>\n",
       "      <td>T</td>\n",
       "      <td>T</td>\n",
       "    </tr>\n",
       "    <tr>\n",
       "      <th>13</th>\n",
       "      <td>CT</td>\n",
       "      <td>CT</td>\n",
       "    </tr>\n",
       "    <tr>\n",
       "      <th>14</th>\n",
       "      <td>CT</td>\n",
       "      <td>CT</td>\n",
       "    </tr>\n",
       "  </tbody>\n",
       "</table>\n",
       "</div>"
      ],
      "text/plain": [
       "   round_winner RF Prediction\n",
       "0            CT            CT\n",
       "1            CT             T\n",
       "2            CT            CT\n",
       "3             T             T\n",
       "4             T             T\n",
       "5             T             T\n",
       "6            CT             T\n",
       "7             T             T\n",
       "8             T             T\n",
       "9            CT            CT\n",
       "10           CT            CT\n",
       "11            T            CT\n",
       "12            T             T\n",
       "13           CT            CT\n",
       "14           CT            CT"
      ]
     },
     "execution_count": 38,
     "metadata": {},
     "output_type": "execute_result"
    }
   ],
   "source": [
    "hasil_RF = pd.concat([data_inf, y_pred_inf_df_RF],axis=1)\n",
    "hasil_RF[[\"round_winner\",\"RF Prediction\"]]"
   ]
  },
  {
   "cell_type": "markdown",
   "metadata": {},
   "source": [
    "Statment:\n",
    "\n",
    "Dapat dilihat pada table diatas, dari 15 data Inference yang dimasukkan kedalam model terdapat hasil prediksi yang salah pada 4 data yaitu pada index 1, 6, 8 dan 11. Dengan hasil tersebut dapat dikatakan bahwa model yang digunakan telah melakukan prediksi dengan baik apabila dilakukan pengetesan dengan data inference. "
   ]
  },
  {
   "cell_type": "markdown",
   "metadata": {},
   "source": [
    "# Pengambilan Kesimpulan"
   ]
  },
  {
   "cell_type": "markdown",
   "metadata": {},
   "source": [
    "Statment:\n",
    "\n",
    "Pada objective kali ini adalah menggunakan kolom **round_winner** sebagai target pada model prediksi, dimana diharapkan dapat memprediksi potensi kemenangan dari sebuah fraksi Teroris maupun Counter Teroris dengan menggunakan data mengenai pertandingan CSGO. Ada 4 model yang digunakan pada Milestone 2 - Phase 1 kali ini, antara lain:\n",
    "\n",
    "- Random Forest Classifier\n",
    "- SVM\n",
    "- KNN\n",
    "- Logistic Regression\n",
    "\n",
    "Berdasarkan EDA yang telah dilakukan sebelumnya, didapati bahwa kolom yang akan mejadi target yaitu kolom *round_winner*, tidak termasuk dalam table diatas dimana artinya kolom target tersebut tidak memiliki korelasi apapun dengan data lainnya. Namun terdapat beberapa kolom yang memiliki korelasi cukup tinggi terhadap kolom lainnya pada dataset, antara lain kolom *time_left* dengan *bomb_planted* dan *ct_health*. `Dikarenakan dari beberapa review mengenai korelasi kolom tidak menentukan akurasi dari model Klasifikasi, disini saya tidak melakukan drop yang memiliki korelasi rendah terhadap kolom lainnya`. Pada bagian EDA ini pula didapati bahwa kolom target adalah **Moderatly Balance**, dimana data pada kelas 0 dan 1 memiliki perbedaan yang tidak begitu signifikan hanya berbeda sekitar 1.9%.\n",
    "\n",
    "Kemudian saya melakukan EDA lanjutan dimana menemukan hal yang menarik pada dataset kali ini yaitu mengenai Jumlah kemenangan tiap fraksi pada map tertentu. Terdapat beberapa Map dimana terdapat fraksi Teroris maupun Anti-Teroris lebih unggul. Dimana untuk fraksi Teroris sangat unggul pada map **dust2** dan **inferno**, dengan keunggulan kurang lebih sekitar 2000 rounds. Sedangkan untuk Anti-Teroris dapat mengungguli pada map **nuke** dan **train**. `Uniknya pada dataset kali ini hanya terdapat 8 map yang menjadi tempat untuk bermain, padahal didalam game CSGO sendiri terdapat setidaknya ada 25 official maps`. Namun hal ini dapat dijelaskan mengenai dataset ini berasal, dimana dataset tersebut diambil dari turnamen-turnamen CSGO dari tahun 2019 hingga 2020 yang dimana Valve selaku pengembang game memiliki 8 Maps sebagai paling balance dan competitive diantara banyak map tersebut.\n",
    "\n",
    "Selanjutnya saya masih mengeksplorasi EDA dimana saya mendapatkan insight menarik mengenai beberapa senjata yang menjadi andalan para setiap pemain dalam bermain game CSGO tersebut. Diantaranya Ak-47 untuk fraksi teroris dan M4a4 untuk fraksi Anti-teroris, dimana kedua senjata ini menjadi andalan untuk masing-masing fraksi. Buktinya kedua senjata tersebut berjumlah hampir 200.000 pemakaian dari keseluruhan dataset, kemudian diikuti oleh senjata-senjata lainnya. `Uniknya menurut Valve selaku pengembang game terdapat total ada 33 senjata dan 6 grenades yang ada pada game CSGO tersebut, namun hanya ada beberapa yang senjata yang sering digunakan oleh para pemain dalam hal ini para pemain pro`. Hal ini didukung dengan adanya senjata yang berjumlah 28 jenis dimana para pemain hanya menggunakannya <10 atau bahkan tidak pernah sama sekali. Penggunaan dari beberapa senjata tersebut tidak lepas dari faktor Meta atau senjata yang sedang digemari akibat dari faktor X yang tidak dapat dijelaskan dari dataset, antara lain ada faktor dari update dari kekuatan senjata, harga dari senjata ataupun faktor-faktor lainnya.\n",
    "\n",
    "Kemudian pada bagian Model Evaluation, didapatkan bahwa model Random Forest lah yang memiliki nilai mean terbaik yaitu sebesar 0.8561 dan nilai standar deviasi atau persebarannya sebesar 0.0012. Namun terdapat keunikan pada proses evaluasi model kali ini, model SVM dan KNN yang memiliki nilai mean dibawah Random Forest namun memiliki nilai standar deviasi yang lebih kecil daripada model Random Forest yang hanya 0.0004. `Untuk hasil Classification Report terhadap model Random Forest didapati model yang telah dibuat memiliki akurasi sebesar 88% dimana akurasi tersebut cukup baik dalam melakukan prediksi terhadap data testing`. Selain itu model juga memiliki nilai f1_score yang cukup baik dimana dari kedua kelas CT (Fraksi Anti Teroris) maupun T (Fraksi Teroris) masing-masing mendapatkan nilai sebesar 88%. Hal ini menandakan bahwa model telah berjalan dan melakukan prediksi yang cukup baik. Sedangkan untun penilaian berdasarkan metode ROC-AUC didapati bahwa nilai ROC-AUC pada data train sebesar 0.99 sedangkan untuk data test sebesar 0.94. Dimana dapat disimpulkan bahwa model Random Forest tersebut adalah **Good Fit**.\n",
    "\n",
    "Pada proses Hyperparameter Tuning, saya menggunakan Randomized Search CV sebagai teknik dalam mencari Hyperparameter terbaik bagi model Random Forest. Hasilnya yaitu:\n",
    "\n",
    "Random Forest Classifier\n",
    "- min_samples_split: 2\n",
    "- max_features: sqrt\n",
    "- criterion: entropy\n",
    "\n",
    "Selanjutnya untuk hasil prediksi dengan menggunakan data Inference sebagai data baru, dari 15 data Inference yang dimasukkan kedalam model terdapat hasil prediksi yang salah ada 4 data. `Dengan hasil tersebut dapat dikatakan bahwa model yang digunakan telah melakukan prediksi dengan baik apabila dilakukan pengetesan dengan data Inference`. \n",
    " \n",
    "======================================================================================================================================\n",
    "\n",
    "\n",
    "**Improvment Note**\n",
    "\n",
    "Untuk catatan improvment kedepan yaitu:\n",
    "- Menambahkan range CV pada metode Cross-Validation sebagai pembanding antar model dan pada metode Randomized Search sebagai Hyperparameter Tuning terhadap model. Dimana pada objective kali ini hanya menggunakan cv = 3, sehingga hasil dari masing-masing kurang optimal dikarenakan hanya ada 3 split strategy yang dilakukan dari metode tersebut. Hal ini sengaja dilakukan pada objective kali ini dikarenakan waktu yang terbatas oleh karena itu semoga dapat dijadikan improvment kedepannya.\n",
    "- Dapat menambah beberapa model klasifikasi seperti Ada Boost, Decision Tree dan lainnya sebagai pembanding manakah model terbaik untuk dataset kali ini.\n",
    "\n"
   ]
  },
  {
   "cell_type": "code",
   "execution_count": 39,
   "metadata": {},
   "outputs": [],
   "source": [
    "import pickle\n",
    "\n",
    "with open('model.pkl', 'wb') as f:\n",
    "    pickle.dump(best_pipe_RF_rand, f)"
   ]
  }
 ],
 "metadata": {
  "interpreter": {
   "hash": "9da1b1b2a29d3b236fe49fb5812d61ad0fc9ad1d043df80838b3360eeace8084"
  },
  "kernelspec": {
   "display_name": "Python 3.10.4 64-bit",
   "language": "python",
   "name": "python3"
  },
  "language_info": {
   "codemirror_mode": {
    "name": "ipython",
    "version": 3
   },
   "file_extension": ".py",
   "mimetype": "text/x-python",
   "name": "python",
   "nbconvert_exporter": "python",
   "pygments_lexer": "ipython3",
   "version": "3.10.4"
  },
  "orig_nbformat": 4
 },
 "nbformat": 4,
 "nbformat_minor": 2
}
